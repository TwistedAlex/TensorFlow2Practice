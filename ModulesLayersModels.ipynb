{
  "nbformat": 4,
  "nbformat_minor": 0,
  "metadata": {
    "colab": {
      "name": "ModulesLayersModels",
      "provenance": [],
      "authorship_tag": "ABX9TyOdmq37mvedBR9W48lzC2Of"
    },
    "kernelspec": {
      "name": "python3",
      "display_name": "Python 3"
    }
  },
  "cells": [
    {
      "cell_type": "markdown",
      "metadata": {
        "id": "EW6bl1gdrrvR"
      },
      "source": [
        "To do machine learning in TensorFlow, you are likely to need to define, save, and restore a model.\r\n",
        "\r\n",
        "A model is, abstractly:\r\n",
        "\r\n",
        "A function that computes something on tensors (a forward pass)\r\n",
        "Some variables that can be updated in response to training"
      ]
    },
    {
      "cell_type": "markdown",
      "metadata": {
        "id": "y3ZBx7629K9v"
      },
      "source": [
        "**Defining models and layers**\r\n",
        "\r\n",
        "Most models are made of layers. Layers are functions with a known mathematical structure that can be reused and have trainable variables. In TensorFlow, most high-level implementations of layers and models, such as Keras or Sonnet, are built on the same foundational class: tf.Module.\r\n",
        "\r\n",
        "Here's an example of a very simple tf.Module that operates on a scalar tensor:"
      ]
    },
    {
      "cell_type": "code",
      "metadata": {
        "id": "zMnYmpDqIRJK"
      },
      "source": [
        "import tensorflow as tf\r\n",
        "from datetime import datetime\r\n",
        "\r\n",
        "%load_ext tensorboard"
      ],
      "execution_count": 2,
      "outputs": []
    },
    {
      "cell_type": "code",
      "metadata": {
        "colab": {
          "base_uri": "https://localhost:8080/"
        },
        "id": "PN8nTWD4HUcr",
        "outputId": "5d10e6db-fca6-417a-f456-d40c6509bf71"
      },
      "source": [
        "class SimpleModule(tf.Module):\r\n",
        "  def __init__(self, name=None):\r\n",
        "    super().__init__(name=name)\r\n",
        "    self.a_variable = tf.Variable(5.0, name=\"train_me\")\r\n",
        "    self.non_trainable_variable = tf.Variable(5.0, trainable=False, name=\"do_not_train_me\")\r\n",
        "  def __call__(self, x):\r\n",
        "    return self.a_variable * x + self.non_trainable_variable\r\n",
        "\r\n",
        "simple_module = SimpleModule(name=\"simple\")\r\n",
        "\r\n",
        "simple_module(tf.constant(5.0))"
      ],
      "execution_count": 3,
      "outputs": [
        {
          "output_type": "execute_result",
          "data": {
            "text/plain": [
              "<tf.Tensor: shape=(), dtype=float32, numpy=30.0>"
            ]
          },
          "metadata": {
            "tags": []
          },
          "execution_count": 3
        }
      ]
    },
    {
      "cell_type": "markdown",
      "metadata": {
        "id": "oenhiyV3IOa2"
      },
      "source": [
        "Modules and, by extension, layers are deep-learning terminology for \"objects\": They have internal state, and methods that use that state.\r\n",
        "\r\n",
        "There is nothing special about __call__ except to act like a Python callable; you can invoke your models with whatever functions you wish.\r\n",
        "\r\n",
        "You can set the trainability of variables on and off for any reason, including freezing layers and variables during fine-tuning."
      ]
    },
    {
      "cell_type": "markdown",
      "metadata": {
        "id": "J_y8buVoIYe7"
      },
      "source": [
        "By subclassing tf.Module, any tf.Variable or tf.Module instances assigned to this object's properties are automatically collected. This allows you to save and load variables, and also create collections oftf.Modules."
      ]
    },
    {
      "cell_type": "code",
      "metadata": {
        "colab": {
          "base_uri": "https://localhost:8080/"
        },
        "id": "V8bKInsCIXDY",
        "outputId": "b82fcad4-65da-4068-c3e6-952cfbfa5dd6"
      },
      "source": [
        "# All trainable variables\r\n",
        "print(\"trainable variables:\", simple_module.trainable_variables)\r\n",
        "# Every variable\r\n",
        "print(\"all variables:\", simple_module.variables)"
      ],
      "execution_count": 4,
      "outputs": [
        {
          "output_type": "stream",
          "text": [
            "trainable variables: (<tf.Variable 'train_me:0' shape=() dtype=float32, numpy=5.0>,)\n",
            "all variables: (<tf.Variable 'train_me:0' shape=() dtype=float32, numpy=5.0>, <tf.Variable 'do_not_train_me:0' shape=() dtype=float32, numpy=5.0>)\n"
          ],
          "name": "stdout"
        }
      ]
    },
    {
      "cell_type": "code",
      "metadata": {
        "colab": {
          "base_uri": "https://localhost:8080/"
        },
        "id": "s3ERbSQ1Uvkh",
        "outputId": "5a9b143a-3904-4836-9ae2-9da2b825ae58"
      },
      "source": [
        "# Define dense(linear) layer\r\n",
        "class Dense(tf.Module):\r\n",
        "  def __init__(self, in_features, out_features, name=None):\r\n",
        "    super().__init__(name=name)\r\n",
        "    self.w = tf.Variable(\r\n",
        "      tf.random.normal([in_features, out_features]), name='w')\r\n",
        "    self.b = tf.Variable(tf.zeros([out_features]), name='b')\r\n",
        "  def __call__(self, x):\r\n",
        "    y = tf.matmul(x, self.w) + self.b\r\n",
        "    return tf.nn.relu(y)\r\n",
        "\r\n",
        "class SequentialModule(tf.Module):\r\n",
        "  def __init__(self, name=None):\r\n",
        "    super().__init__(name=name)\r\n",
        "\r\n",
        "    self.dense_1 = Dense(in_features=3, out_features=3)\r\n",
        "    self.dense_2 = Dense(in_features=3, out_features=2)\r\n",
        "\r\n",
        "  def __call__(self, x):\r\n",
        "    x = self.dense_1(x)\r\n",
        "    return self.dense_2(x)\r\n",
        "\r\n",
        "# You have made a model!\r\n",
        "my_model = SequentialModule(name=\"the_model\")\r\n",
        "\r\n",
        "# Call it, with random results\r\n",
        "print(\"Model results:\", my_model(tf.constant([[2.0, 2.0, 2.0]])))"
      ],
      "execution_count": 5,
      "outputs": [
        {
          "output_type": "stream",
          "text": [
            "Model results: tf.Tensor([[0.         0.66619265]], shape=(1, 2), dtype=float32)\n"
          ],
          "name": "stdout"
        }
      ]
    },
    {
      "cell_type": "markdown",
      "metadata": {
        "id": "9jI3MqA3WmbR"
      },
      "source": [
        "tf.Module instances will automatically collect, recusively, any tf.Variable or tf.Module instances assigned to it. This allows you to manage collections oftf.Modules with a single model instance, and save and load whole models."
      ]
    },
    {
      "cell_type": "code",
      "metadata": {
        "colab": {
          "base_uri": "https://localhost:8080/"
        },
        "id": "0OA5Tz-HWnuK",
        "outputId": "cf398f3b-8dc0-4c71-c61f-86fbaecf9157"
      },
      "source": [
        "print(\"Submodules:\", my_model.submodules)\r\n",
        "\r\n",
        "for var in my_model.variables:\r\n",
        "  print(var, \"\\n\")"
      ],
      "execution_count": 6,
      "outputs": [
        {
          "output_type": "stream",
          "text": [
            "Submodules: (<__main__.Dense object at 0x7fd7bf17e828>, <__main__.Dense object at 0x7fd7c08fc198>)\n",
            "<tf.Variable 'b:0' shape=(3,) dtype=float32, numpy=array([0., 0., 0.], dtype=float32)> \n",
            "\n",
            "<tf.Variable 'w:0' shape=(3, 3) dtype=float32, numpy=\n",
            "array([[-1.565403  ,  0.5565351 ,  0.96435696],\n",
            "       [-0.7753218 , -0.07704509, -0.37318504],\n",
            "       [ 0.58896524,  0.9412106 ,  2.4840398 ]], dtype=float32)> \n",
            "\n",
            "<tf.Variable 'b:0' shape=(2,) dtype=float32, numpy=array([0., 0.], dtype=float32)> \n",
            "\n",
            "<tf.Variable 'w:0' shape=(3, 2) dtype=float32, numpy=\n",
            "array([[ 2.0976584 ,  1.7208703 ],\n",
            "       [-1.401734  ,  0.5614856 ],\n",
            "       [ 0.46375453, -0.15108119]], dtype=float32)> \n",
            "\n"
          ],
          "name": "stdout"
        }
      ]
    },
    {
      "cell_type": "markdown",
      "metadata": {
        "id": "iHOSAV-LWsvq"
      },
      "source": [
        "**Create variables**\r\n",
        "\r\n",
        "By deferring variable creation to the first time the module is called with a specific input shape, you do not need specify the input size up front."
      ]
    },
    {
      "cell_type": "code",
      "metadata": {
        "colab": {
          "base_uri": "https://localhost:8080/"
        },
        "id": "n_BfsWv8Y0u2",
        "outputId": "c8dffd5a-1a9c-4bbe-96b4-34c59bc1c978"
      },
      "source": [
        "class FlexibleDenseModule(tf.Module):\r\n",
        "  # Note: No need for `in+features`\r\n",
        "  def __init__(self, out_features, name=None):\r\n",
        "    super().__init__(name=name)\r\n",
        "    self.is_built = False\r\n",
        "    self.out_features = out_features\r\n",
        "\r\n",
        "  def __call__(self, x):\r\n",
        "    # Create variables on first call.\r\n",
        "    if not self.is_built:\r\n",
        "      self.w = tf.Variable(\r\n",
        "        tf.random.normal([x.shape[-1], self.out_features]), name='w')\r\n",
        "      self.b = tf.Variable(tf.zeros([self.out_features]), name='b')\r\n",
        "      self.is_built = True\r\n",
        "\r\n",
        "    y = tf.matmul(x, self.w) + self.b\r\n",
        "    return tf.nn.relu(y)\r\n",
        "\r\n",
        "# Used in a module\r\n",
        "class MySequentialModule(tf.Module):\r\n",
        "  def __init__(self, name=None):\r\n",
        "    super().__init__(name=name)\r\n",
        "\r\n",
        "    self.dense_1 = FlexibleDenseModule(out_features=3)\r\n",
        "    self.dense_2 = FlexibleDenseModule(out_features=2)\r\n",
        "\r\n",
        "  def __call__(self, x):\r\n",
        "    x = self.dense_1(x)\r\n",
        "    return self.dense_2(x)\r\n",
        "\r\n",
        "my_model = MySequentialModule(name=\"the_model\")\r\n",
        "print(\"Model results:\", my_model(tf.constant([[2.0, 2.0, 2.0]])))"
      ],
      "execution_count": 7,
      "outputs": [
        {
          "output_type": "stream",
          "text": [
            "Model results: tf.Tensor([[0.        3.4368594]], shape=(1, 2), dtype=float32)\n"
          ],
          "name": "stdout"
        }
      ]
    },
    {
      "cell_type": "markdown",
      "metadata": {
        "id": "4K3yB2j8Y1IX"
      },
      "source": [
        "This flexibility is why TensorFlow layers often only need to specify the shape of their outputs, such as in tf.keras.layers.Dense, rather than both the input and output size."
      ]
    },
    {
      "cell_type": "markdown",
      "metadata": {
        "id": "Dqt10ePoZFwz"
      },
      "source": [
        "**Saving weights**\r\n",
        "\r\n",
        "You can save a [tf.Module](https://www.tensorflow.org/api_docs/python/tf/Module) as both a [checkpoint](https://www.tensorflow.org/guide/checkpoint) and a [SavedModel](https://www.tensorflow.org/guide/saved_model).\r\n",
        "\r\n",
        "Checkpoints are just the weights (that is, the values of the set of variables inside the module and its submodules)."
      ]
    },
    {
      "cell_type": "code",
      "metadata": {
        "id": "P9BPB2x4ZU2D"
      },
      "source": [
        "chkp_path = \"my_checkpoint\"\r\n",
        "checkpoint = tf.train.Checkpoint(model=my_model)\r\n",
        "checkpoint.write(chkp_path)\r\n",
        "checkpoint.write(chkp_path)"
      ],
      "execution_count": null,
      "outputs": []
    },
    {
      "cell_type": "code",
      "metadata": {
        "id": "nrCUtnmqZa1T"
      },
      "source": [
        "tf.train.list_variables(chkp_path)"
      ],
      "execution_count": null,
      "outputs": []
    },
    {
      "cell_type": "code",
      "metadata": {
        "id": "hNEx2yzkZdeM"
      },
      "source": [
        "new_model = MySequentialModule()\r\n",
        "new_checkpoint = tf.train.Checkpoint(model=new_model)\r\n",
        "new_checkpoint.restore(\"my_checkpoint\")\r\n",
        "\r\n",
        "# Should be the same result as above\r\n",
        "new_model(tf.constant([[2.0, 2.0, 2.0]]))"
      ],
      "execution_count": null,
      "outputs": []
    },
    {
      "cell_type": "markdown",
      "metadata": {
        "id": "2I9BOg3fZm0C"
      },
      "source": [
        "**Saving functions**\r\n",
        "\r\n",
        "TensorFlow can run models without the original Python objects, as seen in [TensorFlow Serving](https://www.tensorflow.org/tfx) and [TensorFlow Lite](https://www.tensorflow.org/lite) and even when you download a trained model from [TensorFlow Hub](https://www.tensorflow.org/hub).\r\n",
        "\r\n",
        "TensorFlow needs to know how to do the computations described in Python, but without the original code. To do this, you can make a graph, which is described in the previous guide.\r\n",
        "\r\n",
        "This graph contains operations, or ops, that implement the function.\r\n",
        "\r\n",
        "You can define a graph in the model above by adding the @tf.function decorator to indicate that this code should run as a graph."
      ]
    },
    {
      "cell_type": "code",
      "metadata": {
        "id": "-e-vHXtYq6Wl"
      },
      "source": [
        "class MySequentialModule(tf.Module):\r\n",
        "  def __init__(self, name=None):\r\n",
        "    super().__init__(name=name)\r\n",
        "\r\n",
        "    self.dense_1 = Dense(in_features=3, out_features=3)\r\n",
        "    self.dense_2 = Dense(in_features=3, out_features=2)\r\n",
        "\r\n",
        "  @tf.function\r\n",
        "  def __call__(self, x):\r\n",
        "    x = self.dense_1(x)\r\n",
        "    return self.dense_2(x)\r\n",
        "\r\n",
        "# You have made a model with a graph!\r\n",
        "my_model = MySequentialModule(name=\"the_model\")"
      ],
      "execution_count": 9,
      "outputs": []
    },
    {
      "cell_type": "markdown",
      "metadata": {
        "id": "Gw1C0yIFrLYs"
      },
      "source": [
        "**Visualize the graph**\r\n",
        "https://www.tensorflow.org/guide/intro_to_modules#saving_functions"
      ]
    },
    {
      "cell_type": "markdown",
      "metadata": {
        "id": "OdoDYJyarVyE"
      },
      "source": [
        "**Creating a SavedModel**\r\n",
        "\r\n",
        "The recommended way of sharing completely trained models is to use SavedModel. SavedModel contains both a collection of functions and a collection of weights.\r\n",
        "\r\n",
        "You can save the model just made."
      ]
    },
    {
      "cell_type": "code",
      "metadata": {
        "colab": {
          "base_uri": "https://localhost:8080/"
        },
        "id": "4_QclEgmrPM6",
        "outputId": "ca8bdd3a-68fc-4b5a-e46c-d9ba91aadb84"
      },
      "source": [
        "tf.saved_model.save(my_model, \"the_saved_model\")"
      ],
      "execution_count": 10,
      "outputs": [
        {
          "output_type": "stream",
          "text": [
            "WARNING:absl:Found untraced functions such as __call__ while saving (showing 1 of 1). These functions will not be directly callable after loading.\n",
            "WARNING:absl:Found untraced functions such as __call__ while saving (showing 1 of 1). These functions will not be directly callable after loading.\n"
          ],
          "name": "stderr"
        },
        {
          "output_type": "stream",
          "text": [
            "INFO:tensorflow:Assets written to: the_saved_model/assets\n"
          ],
          "name": "stdout"
        },
        {
          "output_type": "stream",
          "text": [
            "INFO:tensorflow:Assets written to: the_saved_model/assets\n"
          ],
          "name": "stderr"
        }
      ]
    },
    {
      "cell_type": "code",
      "metadata": {
        "colab": {
          "base_uri": "https://localhost:8080/"
        },
        "id": "wkth1V9yrVIc",
        "outputId": "cf482355-2c81-4b4c-c359-a48cb4aa548f"
      },
      "source": [
        "# Inspect the SavedModel in the directory\r\n",
        "!ls -l the_saved_model"
      ],
      "execution_count": 11,
      "outputs": [
        {
          "output_type": "stream",
          "text": [
            "total 20\n",
            "drwxr-xr-x 2 root root 4096 Jan  2 19:58 assets\n",
            "-rw-r--r-- 1 root root 9689 Jan  2 19:58 saved_model.pb\n",
            "drwxr-xr-x 2 root root 4096 Jan  2 19:58 variables\n"
          ],
          "name": "stdout"
        }
      ]
    },
    {
      "cell_type": "code",
      "metadata": {
        "id": "CQM_ceUtrn9o",
        "outputId": "39f27e52-7d05-41ad-daf1-b3cb219b365a",
        "colab": {
          "base_uri": "https://localhost:8080/"
        }
      },
      "source": [
        "# The variables/ directory contains a checkpoint of the variables \r\n",
        "!ls -l the_saved_model/variables"
      ],
      "execution_count": 12,
      "outputs": [
        {
          "output_type": "stream",
          "text": [
            "total 8\n",
            "-rw-r--r-- 1 root root 408 Jan  2 19:58 variables.data-00000-of-00001\n",
            "-rw-r--r-- 1 root root 356 Jan  2 19:58 variables.index\n"
          ],
          "name": "stdout"
        }
      ]
    }
  ]
}