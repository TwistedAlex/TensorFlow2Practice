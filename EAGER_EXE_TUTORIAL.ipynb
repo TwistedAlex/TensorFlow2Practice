{
  "nbformat": 4,
  "nbformat_minor": 0,
  "metadata": {
    "colab": {
      "name": "EAGER_EXE_TUTORIAL.ipynb",
      "provenance": [],
      "collapsed_sections": [],
      "authorship_tag": "ABX9TyNp9wdoIbWu9sxWSPL37SEE",
      "include_colab_link": true
    },
    "kernelspec": {
      "display_name": "Python 3",
      "name": "python3"
    }
  },
  "cells": [
    {
      "cell_type": "markdown",
      "metadata": {
        "id": "view-in-github",
        "colab_type": "text"
      },
      "source": [
        "<a href=\"https://colab.research.google.com/github/TwistedAlex/TensorFlow2Practice/blob/main/EAGER_EXE_TUTORIAL.ipynb\" target=\"_parent\"><img src=\"https://colab.research.google.com/assets/colab-badge.svg\" alt=\"Open In Colab\"/></a>"
      ]
    },
    {
      "cell_type": "markdown",
      "metadata": {
        "id": "EBgHaCxIeKX-"
      },
      "source": [
        "**Eager execution**\r\n",
        "Evaluate operations immediately, without building graphs: operations *return concrete values* instead of constructing a compuational graph to run later. \r\n",
        "  *An intuitive interface*: Structure your code naturally and use Python data structures. Quickly iterate on small models and small data.\r\n",
        "  *Easier debugging*: Call ops directly to inspect running models and test changes. Use standard Python debugging toools for immediate error report.\r\n",
        "  *Natural control flow*: Use Python control flow instead of graph control flow, simplifying the specification of dynamic models."
      ]
    },
    {
      "cell_type": "markdown",
      "metadata": {
        "id": "-jadZi_NfET-"
      },
      "source": [
        "**Setup and basic usage**"
      ]
    },
    {
      "cell_type": "code",
      "metadata": {
        "id": "iYSr91h9fFHE"
      },
      "source": [
        "import os\r\n",
        "import tensorflow as tf\r\n",
        "import cProfile\r\n",
        "tf.compat.v1.enable_eager_execution()"
      ],
      "execution_count": 3,
      "outputs": []
    },
    {
      "cell_type": "code",
      "metadata": {
        "colab": {
          "base_uri": "https://localhost:8080/"
        },
        "id": "3XAQxdWLjWDL",
        "outputId": "18a330e6-e731-4475-cad0-f8af79f29741"
      },
      "source": [
        "# Eager execution is enabled by default in TF2.0\r\n",
        "\r\n",
        "tf.executing_eagerly()\r\n",
        "# Run TF ops and the results will return immediately:\r\n",
        "x = [[2.]]\r\n",
        "m = tf.matmul(x, x)\r\n",
        "print(\"hello, {}\".format(m))\r\n",
        "a = tf.constant([[1, 2], [3, 4]])\r\n",
        "print(a)"
      ],
      "execution_count": null,
      "outputs": [
        {
          "output_type": "stream",
          "text": [
            "hello, [[4.]]\n",
            "tf.Tensor(\n",
            "[[1 2]\n",
            " [3 4]], shape=(2, 2), dtype=int32)\n"
          ],
          "name": "stdout"
        }
      ]
    },
    {
      "cell_type": "markdown",
      "metadata": {
        "id": "f1RIAi5p95Pp"
      },
      "source": [
        "Broadcasting"
      ]
    },
    {
      "cell_type": "code",
      "metadata": {
        "colab": {
          "base_uri": "https://localhost:8080/"
        },
        "id": "noyh6Fax96ei",
        "outputId": "43d504dc-a3a3-43f3-ff69-e54c78977f3b"
      },
      "source": [
        "b = tf.add(a, 1)\r\n",
        "print(b)"
      ],
      "execution_count": null,
      "outputs": [
        {
          "output_type": "stream",
          "text": [
            "tf.Tensor(\n",
            "[[2 3]\n",
            " [4 5]], shape=(2, 2), dtype=int32)\n"
          ],
          "name": "stdout"
        }
      ]
    },
    {
      "cell_type": "markdown",
      "metadata": {
        "id": "SVmLsK7_963i"
      },
      "source": [
        "Operator overloading"
      ]
    },
    {
      "cell_type": "code",
      "metadata": {
        "colab": {
          "base_uri": "https://localhost:8080/"
        },
        "id": "CqnMdIA6-izf",
        "outputId": "b704a6e8-4a90-49d3-e681-2853c80837f3"
      },
      "source": [
        "print(a * b)"
      ],
      "execution_count": null,
      "outputs": [
        {
          "output_type": "stream",
          "text": [
            "tf.Tensor(\n",
            "[[ 2  6]\n",
            " [12 20]], shape=(2, 2), dtype=int32)\n"
          ],
          "name": "stdout"
        }
      ]
    },
    {
      "cell_type": "markdown",
      "metadata": {
        "id": "q27eIQ5k-thE"
      },
      "source": [
        "Use NumPy values"
      ]
    },
    {
      "cell_type": "code",
      "metadata": {
        "colab": {
          "base_uri": "https://localhost:8080/"
        },
        "id": "7dw1DZfE-uVY",
        "outputId": "33e2732c-b4c7-4ea5-9dbb-d08ab95de365"
      },
      "source": [
        "import numpy as np\r\n",
        "\r\n",
        "c = np.multiply(a, b)\r\n",
        "print(c)"
      ],
      "execution_count": null,
      "outputs": [
        {
          "output_type": "stream",
          "text": [
            "[[ 2  6]\n",
            " [12 20]]\n"
          ],
          "name": "stdout"
        }
      ]
    },
    {
      "cell_type": "markdown",
      "metadata": {
        "id": "7SyjI92w_Boh"
      },
      "source": [
        "Obtain numpy value from a tensor:"
      ]
    },
    {
      "cell_type": "code",
      "metadata": {
        "colab": {
          "base_uri": "https://localhost:8080/"
        },
        "id": "sDGadXb3_ErT",
        "outputId": "c92b43f9-db41-4b32-ec92-df373c551222"
      },
      "source": [
        "print(a.numpy())"
      ],
      "execution_count": null,
      "outputs": [
        {
          "output_type": "stream",
          "text": [
            "[[1 2]\n",
            " [3 4]]\n"
          ],
          "name": "stdout"
        }
      ]
    },
    {
      "cell_type": "markdown",
      "metadata": {
        "id": "5Je2GJFr_V0t"
      },
      "source": [
        "**Dynamic control flow**\r\n",
        "\r\n",
        "A major benefit of eager execution is that all the functionality of the host language is available while your model is executing. So, for example, it is easy to write fizzbuzz:"
      ]
    },
    {
      "cell_type": "code",
      "metadata": {
        "id": "-T2gO-_8_53C"
      },
      "source": [
        "def fizzbuzz(max_num):\r\n",
        "  counter = tf.constant(0)\r\n",
        "  max_num = tf.convert_to_tensor(max_num)\r\n",
        "  for num in range(1, max_num.numpy()+1):\r\n",
        "    num = tf.constant(num)\r\n",
        "    if int(num % 3) == 0 and int(num % 5) == 0:\r\n",
        "      print('FizzBuzz')\r\n",
        "    elif int(num % 3) == 0:\r\n",
        "      print('Fizz')\r\n",
        "    elif int(num % 5) == 0:\r\n",
        "      print('Buzz')\r\n",
        "    else:\r\n",
        "      print(num.numpy())\r\n",
        "    counter += 1"
      ],
      "execution_count": null,
      "outputs": []
    },
    {
      "cell_type": "markdown",
      "metadata": {
        "id": "Rr8OK7BAABRQ"
      },
      "source": [
        "This has conditionals that depend on tensor values and it prints these values at runtime."
      ]
    },
    {
      "cell_type": "code",
      "metadata": {
        "colab": {
          "base_uri": "https://localhost:8080/"
        },
        "id": "zGxXjvcx_88m",
        "outputId": "718cc0e8-81b7-431a-cf7e-5c8dab652aea"
      },
      "source": [
        "fizzbuzz(15)"
      ],
      "execution_count": null,
      "outputs": [
        {
          "output_type": "stream",
          "text": [
            "1\n",
            "2\n",
            "Fizz\n",
            "4\n",
            "Buzz\n",
            "Fizz\n",
            "7\n",
            "8\n",
            "Fizz\n",
            "Buzz\n",
            "11\n",
            "Fizz\n",
            "13\n",
            "14\n",
            "FizzBuzz\n"
          ],
          "name": "stdout"
        }
      ]
    },
    {
      "cell_type": "markdown",
      "metadata": {
        "id": "MBKkprX7FiQI"
      },
      "source": [
        "**Eager training**\r\n",
        "\r\n",
        "Computing gradients\r\n",
        "\r\n",
        "**Automatic differentiation** is useful for implementing machine learning algorithms such as backpropagation for training neural networks. During eager execution, use tf.GradientTape to trace operations for computing gradients later.\r\n",
        "\r\n",
        "You can use [tf.GradientTape](https://www.tensorflow.org/api_docs/python/tf/GradientTape) to train and/or compute gradients in eager. It is especially useful for complicated training loops.\r\n",
        "\r\n",
        "\r\n",
        "Args\r\n",
        "\r\n",
        "persistent: Boolean controlling whether a persistent gradient tape is created. False by default, which means at most one call can be made to the gradient() method on this object.\r\n",
        "\r\n",
        "watch_accessed_variables: Boolean controlling whether the tape will automatically watch any (trainable) variables accessed while the tape is active. Defaults to True meaning gradients can be requested from any result computed in the tape derived from reading a trainable Variable. If False users must explicitly watch any Variables they want to request gradients from.\r\n",
        "\r\n"
      ]
    },
    {
      "cell_type": "code",
      "metadata": {
        "colab": {
          "base_uri": "https://localhost:8080/"
        },
        "id": "H_KPSMOkanMt",
        "outputId": "61689924-2eb5-4d64-cf9b-0c3d3b5b68df"
      },
      "source": [
        "x = tf.constant(3.0)\r\n",
        "with tf.GradientTape() as g:\r\n",
        "  g.watch(x)\r\n",
        "  y = x * x\r\n",
        "dy_dx = g.gradient(y, x)\r\n",
        "print(dy_dx)"
      ],
      "execution_count": null,
      "outputs": [
        {
          "output_type": "stream",
          "text": [
            "tf.Tensor(6.0, shape=(), dtype=float32)\n"
          ],
          "name": "stdout"
        }
      ]
    },
    {
      "cell_type": "markdown",
      "metadata": {
        "id": "gOUkEO3V0KUq"
      },
      "source": [
        "**Train a model**\r\n",
        "\r\n",
        "The following example creates a **multi-layer model** that **classifies** the standard MNIST handwritten digits. It demonstrates the optimizer and layer APIs to build trainable graphs in an eager execution environment.\r\n",
        "\r\n",
        "Trainable variables (created by tf.Variable or tf.compat.v1.get_variable, where trainable=True is default in both cases) are **automatically watched**. Tensors can be manually watched by invoking the watch method on this context manager."
      ]
    },
    {
      "cell_type": "code",
      "metadata": {
        "colab": {
          "base_uri": "https://localhost:8080/"
        },
        "id": "5yUA8EbJFkAr",
        "outputId": "91fbb7aa-1260-4692-aa72-4ed9648ea42f"
      },
      "source": [
        "# Fetch and format the mnist data\r\n",
        "(mnist_images, mnist_labels), _ = tf.keras.datasets.mnist.load_data()\r\n",
        "\r\n",
        "dataset = tf.data.Dataset.from_tensor_slices(\r\n",
        "  (tf.cast(mnist_images[...,tf.newaxis]/255, tf.float32),\r\n",
        "   tf.cast(mnist_labels,tf.int64)))\r\n",
        "dataset = dataset.shuffle(1000).batch(32)"
      ],
      "execution_count": null,
      "outputs": [
        {
          "output_type": "stream",
          "text": [
            "Downloading data from https://storage.googleapis.com/tensorflow/tf-keras-datasets/mnist.npz\n",
            "11493376/11490434 [==============================] - 0s 0us/step\n"
          ],
          "name": "stdout"
        }
      ]
    },
    {
      "cell_type": "code",
      "metadata": {
        "id": "VwMsq1bn0h5V"
      },
      "source": [
        "# Build the model\r\n",
        "mnist_model = tf.keras.Sequential([\r\n",
        "  tf.keras.layers.Conv2D(16,[3,3], activation='relu',\r\n",
        "                         input_shape=(None, None, 1)),\r\n",
        "  tf.keras.layers.Conv2D(16,[3,3], activation='relu'),\r\n",
        "  tf.keras.layers.GlobalAveragePooling2D(),\r\n",
        "  tf.keras.layers.Dense(10)\r\n",
        "])"
      ],
      "execution_count": null,
      "outputs": []
    },
    {
      "cell_type": "markdown",
      "metadata": {
        "id": "zSF2Ir540tIK"
      },
      "source": [
        "Even without training, call the model and inspect the output in eager execution:"
      ]
    },
    {
      "cell_type": "code",
      "metadata": {
        "colab": {
          "base_uri": "https://localhost:8080/"
        },
        "id": "pLNNRTx10t24",
        "outputId": "d49c3d78-3a69-47b7-d815-c8bba1d57602"
      },
      "source": [
        "for images,labels in dataset.take(1):\r\n",
        "  print(\"Logits: \", mnist_model(images[0:1]).numpy())"
      ],
      "execution_count": null,
      "outputs": [
        {
          "output_type": "stream",
          "text": [
            "Logits:  [[-0.01716779 -0.01314864 -0.04200247 -0.02626937  0.00352457  0.03238138\n",
            "  -0.03156129  0.01748437 -0.0146309  -0.01443066]]\n"
          ],
          "name": "stdout"
        }
      ]
    },
    {
      "cell_type": "markdown",
      "metadata": {
        "id": "nhSaQt2bz6yg"
      },
      "source": [
        "While keras models have a builtin training loop (using the **fit**(next example) method), sometimes you need more **customization**(below). Here's an example, of a training loop implemented with eager:"
      ]
    },
    {
      "cell_type": "code",
      "metadata": {
        "id": "io1QBgSI1NN2"
      },
      "source": [
        "optimizer = tf.keras.optimizers.Adam()\r\n",
        "\r\n",
        "# The loss function to be optimized\r\n",
        "loss_object = tf.keras.losses.SparseCategoricalCrossentropy(from_logits=True)\r\n",
        "\r\n",
        "loss_history = []"
      ],
      "execution_count": null,
      "outputs": []
    },
    {
      "cell_type": "code",
      "metadata": {
        "id": "ot3iUhnU1RRF"
      },
      "source": [
        "def train_step(images, labels):\r\n",
        "  with tf.GradientTape() as tape:\r\n",
        "    logits = mnist_model(images, training=True)\r\n",
        "\r\n",
        "    # Add asserts to check the shape of the output.\r\n",
        "    tf.debugging.assert_equal(logits.shape, (32, 10))\r\n",
        "\r\n",
        "    loss_value = loss_object(labels, logits)\r\n",
        "\r\n",
        "  loss_history.append(loss_value.numpy().mean())\r\n",
        "  # grads = d(loss)/d(param)\r\n",
        "  grads = tape.gradient(loss_value, mnist_model.trainable_variables)\r\n",
        "  optimizer.apply_gradients(zip(grads, mnist_model.trainable_variables))"
      ],
      "execution_count": null,
      "outputs": []
    },
    {
      "cell_type": "code",
      "metadata": {
        "id": "5Ots2NuJ1XUD"
      },
      "source": [
        "def train(epochs):\r\n",
        "  for epoch in range(epochs):\r\n",
        "    for (batch, (images, labels)) in enumerate(dataset):\r\n",
        "      train_step(images, labels)\r\n",
        "    print ('Epoch {} finished'.format(epoch))"
      ],
      "execution_count": null,
      "outputs": []
    },
    {
      "cell_type": "code",
      "metadata": {
        "colab": {
          "background_save": true,
          "base_uri": "https://localhost:8080/"
        },
        "id": "Lk0-Uys11ZOK",
        "outputId": "8b40837a-807a-463a-ddd0-c6316c5b5eec"
      },
      "source": [
        "train(epochs = 5)"
      ],
      "execution_count": null,
      "outputs": [
        {
          "output_type": "stream",
          "text": [
            "Epoch 0 finished\n",
            "Epoch 1 finished\n",
            "Epoch 2 finished\n",
            "Epoch 3 finished\n",
            "Epoch 4 finished\n"
          ],
          "name": "stdout"
        }
      ]
    },
    {
      "cell_type": "code",
      "metadata": {
        "colab": {
          "background_save": true
        },
        "id": "iXLvGY5P1eFH",
        "outputId": "a0038635-d34a-4ae9-9518-35d5dc3be3db"
      },
      "source": [
        "import matplotlib.pyplot as plt\r\n",
        "\r\n",
        "plt.plot(loss_history)\r\n",
        "plt.xlabel('Batch #')\r\n",
        "plt.ylabel('Loss [entropy]')"
      ],
      "execution_count": null,
      "outputs": [
        {
          "output_type": "execute_result",
          "data": {
            "text/plain": [
              "Text(0, 0.5, 'Loss [entropy]')"
            ]
          },
          "metadata": {
            "tags": []
          },
          "execution_count": 0
        },
        {
          "output_type": "display_data",
          "data": {
            "image/png": "[encoded data removed]",
            "text/plain": [
              "<Figure size 432x288 with 1 Axes>"
            ]
          },
          "metadata": {
            "tags": []
          }
        }
      ]
    },
    {
      "cell_type": "markdown",
      "metadata": {
        "id": "U31POQY4JuGH"
      },
      "source": [
        "**Variables and optimizers**\r\n",
        "[tf.Variable](https://www.tensorflow.org/api_docs/python/tf/Variable) objects store mutable [tf.Tensor](https://www.tensorflow.org/api_docs/python/tf/Tensor)-like values accessed during training to make automatic differentiation easier.\r\n",
        "\r\n",
        "The collections of variables can be encapsulated into layers or models, along with methods that operate on them. See Custom Keras layers and models for details. The main difference between layers and models is that models add methods like Model.fit, Model.evaluate, and Model.save.\r\n",
        "\r\n",
        "For example, the automatic differentiation example above can be rewritten:"
      ]
    },
    {
      "cell_type": "code",
      "metadata": {
        "id": "B3Iw48WkdOyG"
      },
      "source": [
        "# Model class\r\n",
        "class Linear(tf.keras.Model):\r\n",
        "  def __init__(self):\r\n",
        "    super(Linear, self).__init__()\r\n",
        "    self.W = tf.Variable(5., name='weight')\r\n",
        "    self.B = tf.Variable(10., name='bias')\r\n",
        "  def call(self, inputs):\r\n",
        "    return inputs * self.W + self.B"
      ],
      "execution_count": 13,
      "outputs": []
    },
    {
      "cell_type": "code",
      "metadata": {
        "id": "-rnMxOUFdOgu"
      },
      "source": [
        "# A toy dataset of points around 3 * x + 2\r\n",
        "NUM_EXAMPLES = 2000\r\n",
        "training_inputs = tf.random.normal([NUM_EXAMPLES])\r\n",
        "noise = tf.random.normal([NUM_EXAMPLES])\r\n",
        "training_outputs = training_inputs * 3 + 2 + noise\r\n",
        "\r\n",
        "# The loss function to be optimized\r\n",
        "def loss(model, inputs, targets):\r\n",
        "  error = model(inputs) - targets\r\n",
        "  return tf.reduce_mean(tf.square(error))\r\n",
        "\r\n",
        "def grad(model, inputs, targets):\r\n",
        "  with tf.GradientTape() as tape:\r\n",
        "    loss_value = loss(model, inputs, targets)\r\n",
        "  return tape.gradient(loss_value, [model.W, model.B])"
      ],
      "execution_count": 14,
      "outputs": []
    },
    {
      "cell_type": "markdown",
      "metadata": {
        "id": "xK2OIj7Enam6"
      },
      "source": [
        "\r\n",
        "\r\n",
        "1.   Create the model.\r\n",
        "2.   The Derivatives of a loss function with respect to model parameters.\r\n",
        "3.   A strategy for updating the variables based on the derivatives.\r\n",
        "\r\n"
      ]
    },
    {
      "cell_type": "code",
      "metadata": {
        "colab": {
          "base_uri": "https://localhost:8080/"
        },
        "id": "mfdMMUp4dOO6",
        "outputId": "25e3c80e-2e86-46f3-f7e0-70c55a2f3c97"
      },
      "source": [
        "model = Linear()\r\n",
        "optimizer = tf.keras.optimizers.SGD(learning_rate=0.01)\r\n",
        "\r\n",
        "print(\"Initial loss: {:.3f}\".format(loss(model, training_inputs, training_outputs)))\r\n",
        "\r\n",
        "steps = 300\r\n",
        "for i in range(steps):\r\n",
        "  grads = grad(model, training_inputs, training_outputs)\r\n",
        "  optimizer.apply_gradients(zip(grads, [model.W, model.B]))\r\n",
        "  if i % 20 == 0:\r\n",
        "    print(\"Loss at step {:03d}: {:.3f}\".format(i, loss(model, training_inputs, training_outputs)))"
      ],
      "execution_count": 15,
      "outputs": [
        {
          "output_type": "stream",
          "text": [
            "Initial loss: 69.399\n",
            "Loss at step 000: 66.700\n",
            "Loss at step 020: 30.356\n",
            "Loss at step 040: 14.098\n",
            "Loss at step 060: 6.824\n",
            "Loss at step 080: 3.570\n",
            "Loss at step 100: 2.114\n",
            "Loss at step 120: 1.463\n",
            "Loss at step 140: 1.171\n",
            "Loss at step 160: 1.041\n",
            "Loss at step 180: 0.982\n",
            "Loss at step 200: 0.956\n",
            "Loss at step 220: 0.944\n",
            "Loss at step 240: 0.939\n",
            "Loss at step 260: 0.937\n",
            "Loss at step 280: 0.936\n"
          ],
          "name": "stdout"
        }
      ]
    },
    {
      "cell_type": "code",
      "metadata": {
        "colab": {
          "base_uri": "https://localhost:8080/"
        },
        "id": "bEkXF1cGn1k-",
        "outputId": "7265915e-f0a9-471a-ed21-ea792053c2d3"
      },
      "source": [
        "print(\"Final loss: {:.3f}\".format(loss(model, training_inputs, training_outputs)))"
      ],
      "execution_count": 16,
      "outputs": [
        {
          "output_type": "stream",
          "text": [
            "Final loss: 0.935\n"
          ],
          "name": "stdout"
        }
      ]
    },
    {
      "cell_type": "code",
      "metadata": {
        "colab": {
          "base_uri": "https://localhost:8080/"
        },
        "id": "2ooiw82In3RL",
        "outputId": "64f7862a-602c-4b75-b869-8f4e9718a0b8"
      },
      "source": [
        "print(\"W = {}, B = {}\".format(model.W.numpy(), model.B.numpy()))"
      ],
      "execution_count": 17,
      "outputs": [
        {
          "output_type": "stream",
          "text": [
            "W = 2.9885663986206055, B = 1.9746339321136475\n"
          ],
          "name": "stdout"
        }
      ]
    },
    {
      "cell_type": "code",
      "metadata": {
        "colab": {
          "base_uri": "https://localhost:8080/"
        },
        "id": "05mRnwlyoLKK",
        "outputId": "cfa6e937-a220-43e4-96e6-4b79043cc052"
      },
      "source": [
        "print(model.call(3))"
      ],
      "execution_count": 19,
      "outputs": [
        {
          "output_type": "stream",
          "text": [
            "tf.Tensor(10.940333, shape=(), dtype=float32)\n"
          ],
          "name": "stdout"
        }
      ]
    },
    {
      "cell_type": "markdown",
      "metadata": {
        "id": "zi0DjzgQomDS"
      },
      "source": [
        "**Object-based saving**\r\n",
        "\r\n",
        "A tf.keras.Model includes a convenient save_weights method allowing you to easily create a checkpoint:"
      ]
    },
    {
      "cell_type": "code",
      "metadata": {
        "id": "Frqml4NaopEk"
      },
      "source": [
        "model.save_weights('weights')\r\n",
        "status = model.load_weights('weights')"
      ],
      "execution_count": 20,
      "outputs": []
    },
    {
      "cell_type": "markdown",
      "metadata": {
        "id": "aE6vB5Z6o038"
      },
      "source": [
        "Using [tf.train.Checkpoint](https://www.tensorflow.org/api_docs/python/tf/train/Checkpoint) you can take full control over this process.\r\n",
        "\r\n",
        "This section is an abbreviated version of the guide to training [checkpoints](https://www.tensorflow.org/guide/checkpoint)."
      ]
    },
    {
      "cell_type": "code",
      "metadata": {
        "id": "mvuY6Uq8pt5Y"
      },
      "source": [
        "x = tf.Variable(10.)\r\n",
        "checkpoint = tf.train.Checkpoint(x=x)"
      ],
      "execution_count": 21,
      "outputs": []
    },
    {
      "cell_type": "code",
      "metadata": {
        "colab": {
          "base_uri": "https://localhost:8080/",
          "height": 35
        },
        "id": "6xdttHVUpuXH",
        "outputId": "2f87901f-76f9-45d2-cbe0-8fbd54562c23"
      },
      "source": [
        "x.assign(2.)   # Assign a new value to the variables and save.\r\n",
        "checkpoint_path = './ckpt/'\r\n",
        "checkpoint.save('./ckpt/')"
      ],
      "execution_count": 22,
      "outputs": [
        {
          "output_type": "execute_result",
          "data": {
            "application/vnd.google.colaboratory.intrinsic+json": {
              "type": "string"
            },
            "text/plain": [
              "'./ckpt/-1'"
            ]
          },
          "metadata": {
            "tags": []
          },
          "execution_count": 22
        }
      ]
    },
    {
      "cell_type": "code",
      "metadata": {
        "colab": {
          "base_uri": "https://localhost:8080/"
        },
        "id": "1XFF2ZYFp9N7",
        "outputId": "51ad0142-a459-41fc-8c8f-a071b32e60f0"
      },
      "source": [
        "x.assign(11.)  # Change the variable after saving.\r\n",
        "\r\n",
        "# Restore values from the checkpoint\r\n",
        "checkpoint.restore(tf.train.latest_checkpoint(checkpoint_path))\r\n",
        "\r\n",
        "print(x)  # => 2.0"
      ],
      "execution_count": 23,
      "outputs": [
        {
          "output_type": "stream",
          "text": [
            "<tf.Variable 'Variable:0' shape=() dtype=float32, numpy=2.0>\n"
          ],
          "name": "stdout"
        }
      ]
    },
    {
      "cell_type": "markdown",
      "metadata": {
        "id": "LcSsk5w6qBgL"
      },
      "source": [
        "To save and load models, tf.train.Checkpoint stores the internal state of objects, without requiring hidden variables. To record the state of a model, an optimizer, and a global step, pass them to a tf.train.Checkpoint:"
      ]
    },
    {
      "cell_type": "code",
      "metadata": {
        "colab": {
          "base_uri": "https://localhost:8080/"
        },
        "id": "SdGPldqEqDr3",
        "outputId": "fdc9123c-3be9-4ff9-fa1f-4bd67c403c82"
      },
      "source": [
        "model = tf.keras.Sequential([\r\n",
        "  tf.keras.layers.Conv2D(16,[3,3], activation='relu'),\r\n",
        "  tf.keras.layers.GlobalAveragePooling2D(),\r\n",
        "  tf.keras.layers.Dense(10)\r\n",
        "])\r\n",
        "optimizer = tf.keras.optimizers.Adam(learning_rate=0.001)\r\n",
        "checkpoint_dir = 'path/to/model_dir'\r\n",
        "if not os.path.exists(checkpoint_dir):\r\n",
        "  os.makedirs(checkpoint_dir)\r\n",
        "checkpoint_prefix = os.path.join(checkpoint_dir, \"ckpt\")\r\n",
        "root = tf.train.Checkpoint(optimizer=optimizer,\r\n",
        "                           model=model)\r\n",
        "\r\n",
        "root.save(checkpoint_prefix)\r\n",
        "root.restore(tf.train.latest_checkpoint(checkpoint_dir))"
      ],
      "execution_count": 24,
      "outputs": [
        {
          "output_type": "execute_result",
          "data": {
            "text/plain": [
              "<tensorflow.python.training.tracking.util.CheckpointLoadStatus at 0x7f11103e2ba8>"
            ]
          },
          "metadata": {
            "tags": []
          },
          "execution_count": 24
        }
      ]
    },
    {
      "cell_type": "markdown",
      "metadata": {
        "id": "sXxO5ZbTqKN4"
      },
      "source": [
        "**Object-oriented metrics**\r\n",
        "\r\n",
        "tf.keras.metrics are stored as objects. Update a metric by passing the new data to the callable, and retrieve the result using the tf.keras.metrics.result method, for example:"
      ]
    },
    {
      "cell_type": "code",
      "metadata": {
        "colab": {
          "base_uri": "https://localhost:8080/"
        },
        "id": "Jav1ZfD_qTGS",
        "outputId": "742c9d37-0e06-40eb-baac-cf6d8bebf74d"
      },
      "source": [
        "m = tf.keras.metrics.Mean(\"loss\")\r\n",
        "m(0)\r\n",
        "m(5)\r\n",
        "m.result()  # => 2.5\r\n",
        "m([8, 9])\r\n",
        "m.result()  # => 5.5"
      ],
      "execution_count": 25,
      "outputs": [
        {
          "output_type": "execute_result",
          "data": {
            "text/plain": [
              "<tf.Tensor: shape=(), dtype=float32, numpy=5.5>"
            ]
          },
          "metadata": {
            "tags": []
          },
          "execution_count": 25
        }
      ]
    },
    {
      "cell_type": "markdown",
      "metadata": {
        "id": "EyTVG3cgqgiY"
      },
      "source": [
        "**Summaries and TensorBoard**\r\n",
        "\r\n",
        "[TensorBoard](https://www.tensorflow.org/tensorboard) is a visualization tool for understanding, debugging and optimizing the model training process. It uses summary events that are written while executing the program.\r\n",
        "\r\n",
        "You can use [tf.summary](https://www.tensorflow.org/api_docs/python/tf/summary) to record summaries of variable in eager execution. For example, to record summaries of loss once every 100 training steps:"
      ]
    },
    {
      "cell_type": "code",
      "metadata": {
        "id": "DTTO005RrBnA"
      },
      "source": [
        "logdir = \"./tb/\"\r\n",
        "writer = tf.summary.create_file_writer(logdir)\r\n",
        "\r\n",
        "steps = 1000\r\n",
        "with writer.as_default():  # or call writer.set_as_default() before the loop.\r\n",
        "  for i in range(steps):\r\n",
        "    step = i + 1\r\n",
        "    # Calculate loss with your real train function.\r\n",
        "    loss = 1 - 0.001 * step\r\n",
        "    if step % 100 == 0:\r\n",
        "      tf.summary.scalar('loss', loss, step=step)"
      ],
      "execution_count": null,
      "outputs": []
    },
    {
      "cell_type": "markdown",
      "metadata": {
        "id": "AhRPmfy8raAx"
      },
      "source": [
        "**Advanced automatic differentiation topics**\r\n",
        "\r\n",
        "Dynamic models\r\n",
        "\r\n",
        "tf.GradientTape can also be used in dynamic models. This example for a backtracking line search algorithm looks like normal NumPy code, except there are gradients and is differentiable, despite the complex control flow:"
      ]
    },
    {
      "cell_type": "code",
      "metadata": {
        "id": "HRhMCohwr0hU"
      },
      "source": [
        "def line_search_step(fn, init_x, rate=1.0):\r\n",
        "  with tf.GradientTape() as tape:\r\n",
        "    # Variables are automatically tracked.\r\n",
        "    # But to calculate a gradient from a tensor, you must `watch` it.\r\n",
        "    tape.watch(init_x)\r\n",
        "    value = fn(init_x)\r\n",
        "  grad = tape.gradient(value, init_x)\r\n",
        "  grad_norm = tf.reduce_sum(grad * grad)\r\n",
        "  init_value = value\r\n",
        "  while value > init_value - rate * grad_norm:\r\n",
        "    x = init_x - rate * grad\r\n",
        "    value = fn(x)\r\n",
        "    rate /= 2.0\r\n",
        "  return x, value"
      ],
      "execution_count": 26,
      "outputs": []
    },
    {
      "cell_type": "markdown",
      "metadata": {
        "id": "pvUqFy4IvBh7"
      },
      "source": [
        "Custom gradients\r\n",
        "\r\n",
        "Custom gradients are an easy way to override gradients. Within the forward function, define the gradient with respect to the inputs, outputs, or intermediate results. For example, here's an easy way to clip the norm of the gradients in the backward pass:"
      ]
    },
    {
      "cell_type": "code",
      "metadata": {
        "id": "iHtVuwcovDe-"
      },
      "source": [
        "@tf.custom_gradient\r\n",
        "def clip_gradient_by_norm(x, norm):\r\n",
        "  y = tf.identity(x)\r\n",
        "  def grad_fn(dresult):\r\n",
        "    return [tf.clip_by_norm(dresult, norm), None]\r\n",
        "  return y, grad_fn"
      ],
      "execution_count": null,
      "outputs": []
    },
    {
      "cell_type": "markdown",
      "metadata": {
        "id": "jISxdNnYvPzu"
      },
      "source": [
        "Custom gradients are commonly used to provide a numerically stable gradient for a sequence of operations:"
      ]
    },
    {
      "cell_type": "code",
      "metadata": {
        "id": "uokAg67IvO3n"
      },
      "source": [
        "def log1pexp(x):\r\n",
        "  return tf.math.log(1 + tf.exp(x))\r\n",
        "\r\n",
        "def grad_log1pexp(x):\r\n",
        "  with tf.GradientTape() as tape:\r\n",
        "    tape.watch(x)\r\n",
        "    value = log1pexp(x)\r\n",
        "    # Grad = d(value)/d(x)\r\n",
        "  return tape.gradient(value, x)"
      ],
      "execution_count": 4,
      "outputs": []
    },
    {
      "cell_type": "code",
      "metadata": {
        "colab": {
          "base_uri": "https://localhost:8080/"
        },
        "id": "1vwhElEDvVcq",
        "outputId": "f4bf28af-dccc-4809-a6fd-8072d6434683"
      },
      "source": [
        "# The gradient computation works fine at x = 0.\r\n",
        "grad_log1pexp(tf.constant(0.)).numpy()"
      ],
      "execution_count": 5,
      "outputs": [
        {
          "output_type": "execute_result",
          "data": {
            "text/plain": [
              "0.5"
            ]
          },
          "metadata": {
            "tags": []
          },
          "execution_count": 5
        }
      ]
    },
    {
      "cell_type": "code",
      "metadata": {
        "colab": {
          "base_uri": "https://localhost:8080/"
        },
        "id": "mKkki0qfvWvI",
        "outputId": "2cad7fd1-58c9-42d9-fc31-f95013006636"
      },
      "source": [
        "# However, x = 100 fails because of numerical instability.\r\n",
        "grad_log1pexp(tf.constant(100.)).numpy()"
      ],
      "execution_count": 6,
      "outputs": [
        {
          "output_type": "execute_result",
          "data": {
            "text/plain": [
              "nan"
            ]
          },
          "metadata": {
            "tags": []
          },
          "execution_count": 6
        }
      ]
    },
    {
      "cell_type": "code",
      "metadata": {
        "colab": {
          "base_uri": "https://localhost:8080/"
        },
        "id": "V7QNR7E5945i",
        "outputId": "bd4936fa-2efe-4b09-ee3d-33c0e3f213ff"
      },
      "source": [
        "print(tf.exp(100.).numpy())"
      ],
      "execution_count": 9,
      "outputs": [
        {
          "output_type": "stream",
          "text": [
            "inf\n"
          ],
          "name": "stdout"
        }
      ]
    },
    {
      "cell_type": "markdown",
      "metadata": {
        "id": "ZGDWrhL5vYg6"
      },
      "source": [
        "Here, the log1pexp function can be analytically simplified with a custom gradient. The implementation below reuses the value for tf.exp(x) that is computed during the forward pass—making it more efficient by eliminating redundant calculations:"
      ]
    },
    {
      "cell_type": "code",
      "metadata": {
        "id": "6tGKyC5WvZyf"
      },
      "source": [
        "@tf.custom_gradient\r\n",
        "def log1pexp(x):\r\n",
        "  e = tf.exp(x)\r\n",
        "  def grad(dy):\r\n",
        "    return dy * (1 - 1 / (1 + e))\r\n",
        "  return tf.math.log(1 + e), grad\r\n",
        "\r\n",
        "def grad_log1pexp(x):\r\n",
        "  with tf.GradientTape() as tape:\r\n",
        "    tape.watch(x)\r\n",
        "    value = log1pexp(x)\r\n",
        "  return tape.gradient(value, x)"
      ],
      "execution_count": null,
      "outputs": []
    },
    {
      "cell_type": "code",
      "metadata": {
        "id": "nqCeVgCMva9w"
      },
      "source": [
        "# As before, the gradient computation works fine at x = 0.\r\n",
        "grad_log1pexp(tf.constant(0.)).numpy()"
      ],
      "execution_count": null,
      "outputs": []
    },
    {
      "cell_type": "code",
      "metadata": {
        "id": "ptWxUfNxvcHP"
      },
      "source": [
        "# And the gradient computation also works at x = 100.\r\n",
        "grad_log1pexp(tf.constant(100.)).numpy()"
      ],
      "execution_count": null,
      "outputs": []
    },
    {
      "cell_type": "markdown",
      "metadata": {
        "id": "zgDQPRb5vU1o"
      },
      "source": [
        "**Performance**\r\n",
        "\r\n",
        "Computation is automatically offloaded to GPUs during eager execution. If you want control over where a computation runs you can enclose it in a tf.device('/gpu:0') block (or the CPU equivalent):"
      ]
    },
    {
      "cell_type": "code",
      "metadata": {
        "colab": {
          "base_uri": "https://localhost:8080/"
        },
        "id": "6CkDCIEA_KLU",
        "outputId": "5a5b7ce0-9d10-4520-c9ba-c91cf0c62930"
      },
      "source": [
        "import time\r\n",
        "\r\n",
        "def measure(x, steps):\r\n",
        "  # TensorFlow initializes a GPU the first time it's used, exclude from timing.\r\n",
        "  tf.matmul(x, x)\r\n",
        "  start = time.time()\r\n",
        "  for i in range(steps):\r\n",
        "    x = tf.matmul(x, x)\r\n",
        "  # tf.matmul can return before completing the matrix multiplication\r\n",
        "  # (e.g., can return after enqueing the operation on a CUDA stream).\r\n",
        "  # The x.numpy() call below will ensure that all enqueued operations\r\n",
        "  # have completed (and will also copy the result to host memory,\r\n",
        "  # so we're including a little more than just the matmul operation\r\n",
        "  # time).\r\n",
        "  _ = x.numpy()\r\n",
        "  end = time.time()\r\n",
        "  return end - start\r\n",
        "\r\n",
        "shape = (1000, 1000)\r\n",
        "steps = 200\r\n",
        "print(\"Time to multiply a {} matrix by itself {} times:\".format(shape, steps))\r\n",
        "\r\n",
        "# Run on CPU:\r\n",
        "with tf.device(\"/cpu:0\"):\r\n",
        "  print(\"CPU: {} secs\".format(measure(tf.random.normal(shape), steps)))\r\n",
        "\r\n",
        "# Run on GPU, if available:\r\n",
        "if tf.config.experimental.list_physical_devices(\"GPU\"):\r\n",
        "  with tf.device(\"/gpu:0\"):\r\n",
        "    print(\"GPU: {} secs\".format(measure(tf.random.normal(shape), steps)))\r\n",
        "else:\r\n",
        "  print(\"GPU: not found\")"
      ],
      "execution_count": 10,
      "outputs": [
        {
          "output_type": "stream",
          "text": [
            "Time to multiply a (1000, 1000) matrix by itself 200 times:\n",
            "CPU: 6.392500400543213 secs\n",
            "GPU: not found\n"
          ],
          "name": "stdout"
        }
      ]
    },
    {
      "cell_type": "markdown",
      "metadata": {
        "id": "LGSr_DfZ_ex7"
      },
      "source": [
        "A tf.Tensor object can be copied to a different device to execute its operations:\r\n",
        "\r\n",
        "#TODO CHECK AVAILABILITY IN CURRENT VERSION"
      ]
    },
    {
      "cell_type": "code",
      "metadata": {
        "id": "aCyXZe_N_fuT"
      },
      "source": [
        "if tf.config.experimental.list_physical_devices(\"GPU\"):\r\n",
        "  x = tf.random.normal([10, 10])\r\n",
        "\r\n",
        "  x_gpu0 = x.gpu()\r\n",
        "  x_cpu = x.cpu()\r\n",
        "\r\n",
        "  _ = tf.matmul(x_cpu, x_cpu)    # Runs on CPU\r\n",
        "  _ = tf.matmul(x_gpu0, x_gpu0)  # Runs on GPU:0"
      ],
      "execution_count": 13,
      "outputs": []
    },
    {
      "cell_type": "markdown",
      "metadata": {
        "id": "hI2adrV0mn7Y"
      },
      "source": [
        "Disable eager execution"
      ]
    },
    {
      "cell_type": "code",
      "metadata": {
        "colab": {
          "base_uri": "https://localhost:8080/"
        },
        "id": "vFZvyYaolywK",
        "outputId": "a27e995f-0a21-4e9a-b3a4-8ffca0d2e4f2"
      },
      "source": [
        "tf.compat.v1.disable_eager_execution()\r\n",
        "a = tf.constant([[1, 2], [3, 4]])\r\n",
        "print(a)"
      ],
      "execution_count": null,
      "outputs": [
        {
          "output_type": "stream",
          "text": [
            "Tensor(\"Const:0\", shape=(2, 2), dtype=int32)\n"
          ],
          "name": "stdout"
        }
      ]
    },
    {
      "cell_type": "code",
      "metadata": {
        "colab": {
          "base_uri": "https://localhost:8080/"
        },
        "id": "ghyt0LWxl1bY",
        "outputId": "c223e361-78ab-4875-b50a-aaae388b1dd7"
      },
      "source": [
        "b = tf.add(a, 1)\r\n",
        "print(b)"
      ],
      "execution_count": null,
      "outputs": [
        {
          "output_type": "stream",
          "text": [
            "Tensor(\"Add:0\", shape=(2, 2), dtype=int32)\n"
          ],
          "name": "stdout"
        }
      ]
    },
    {
      "cell_type": "code",
      "metadata": {
        "id": "i_OVp02V-xi5"
      },
      "source": [
        "import numpy as np\r\n",
        "\r\n",
        "c = np.multiply(a, b)\r\n",
        "print(c)"
      ],
      "execution_count": null,
      "outputs": []
    }
  ]
}