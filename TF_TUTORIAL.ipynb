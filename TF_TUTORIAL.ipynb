{
  "nbformat": 4,
  "nbformat_minor": 0,
  "metadata": {
    "colab": {
      "name": "TF_TUTORIAL.ipynb",
      "provenance": [],
      "collapsed_sections": [],
      "authorship_tag": "ABX9TyNJbARpVVvFQWNSLccSfuRd",
      "include_colab_link": true
    },
    "kernelspec": {
      "name": "python3",
      "display_name": "Python 3"
    }
  },
  "cells": [
    {
      "cell_type": "markdown",
      "metadata": {
        "id": "view-in-github",
        "colab_type": "text"
      },
      "source": [
        "<a href=\"https://colab.research.google.com/github/TwistedAlex/TensorFlow2Practice/blob/main/TF_TUTORIAL.ipynb\" target=\"_parent\"><img src=\"https://colab.research.google.com/assets/colab-badge.svg\" alt=\"Open In Colab\"/></a>"
      ]
    },
    {
      "cell_type": "markdown",
      "metadata": {
        "id": "EBgHaCxIeKX-"
      },
      "source": [
        "**Eager execution**\r\n",
        "Evaluate operations immediately, without building graphs: operations *return concrete values* instead of constructing a compuational graph to run later. \r\n",
        "  *An intuitive interface*: Structure your code naturally and use Python data structures. Quickly iterate on small models and small data.\r\n",
        "  *Easier debugging*: Call ops directly to inspect running models and test changes. Use standard Python debugging toools for immediate error report.\r\n",
        "  *Natural control flow*: Use Python control flow instead of graph control flow, simplifying the specification of dynamic models."
      ]
    },
    {
      "cell_type": "markdown",
      "metadata": {
        "id": "-jadZi_NfET-"
      },
      "source": [
        "**Setup and basic usage**"
      ]
    },
    {
      "cell_type": "code",
      "metadata": {
        "id": "iYSr91h9fFHE"
      },
      "source": [
        "import os\r\n",
        "import tensorflow as tf\r\n",
        "import cProfile\r\n",
        "tf.compat.v1.enable_eager_execution()"
      ],
      "execution_count": 1,
      "outputs": []
    },
    {
      "cell_type": "code",
      "metadata": {
        "colab": {
          "base_uri": "https://localhost:8080/"
        },
        "id": "3XAQxdWLjWDL",
        "outputId": "8aea3850-ce10-4162-e8fc-57f47ad953b3"
      },
      "source": [
        "# Eager execution is enabled by default in TF2.0\r\n",
        "\r\n",
        "tf.executing_eagerly()\r\n",
        "# Run TF ops and the results will return immediately:\r\n",
        "x = [[2.]]\r\n",
        "m = tf.matmul(x, x)\r\n",
        "print(\"hello, {}\".format(m))\r\n",
        "a = tf.constant([[1, 2], [3, 4]])\r\n",
        "print(a)\r\n",
        "b = tf.add(a, 1)\r\n",
        "print(b)"
      ],
      "execution_count": 2,
      "outputs": [
        {
          "output_type": "stream",
          "text": [
            "hello, [[4.]]\n",
            "tf.Tensor(\n",
            "[[1 2]\n",
            " [3 4]], shape=(2, 2), dtype=int32)\n",
            "tf.Tensor(\n",
            "[[2 3]\n",
            " [4 5]], shape=(2, 2), dtype=int32)\n"
          ],
          "name": "stdout"
        }
      ]
    },
    {
      "cell_type": "markdown",
      "metadata": {
        "id": "hI2adrV0mn7Y"
      },
      "source": [
        "Disable eager execution"
      ]
    },
    {
      "cell_type": "code",
      "metadata": {
        "colab": {
          "base_uri": "https://localhost:8080/"
        },
        "id": "vFZvyYaolywK",
        "outputId": "a27e995f-0a21-4e9a-b3a4-8ffca0d2e4f2"
      },
      "source": [
        "tf.compat.v1.disable_eager_execution()\r\n",
        "a = tf.constant([[1, 2], [3, 4]])\r\n",
        "print(a)"
      ],
      "execution_count": 3,
      "outputs": [
        {
          "output_type": "stream",
          "text": [
            "Tensor(\"Const:0\", shape=(2, 2), dtype=int32)\n"
          ],
          "name": "stdout"
        }
      ]
    },
    {
      "cell_type": "code",
      "metadata": {
        "colab": {
          "base_uri": "https://localhost:8080/"
        },
        "id": "ghyt0LWxl1bY",
        "outputId": "c223e361-78ab-4875-b50a-aaae388b1dd7"
      },
      "source": [
        "b = tf.add(a, 1)\r\n",
        "print(b)"
      ],
      "execution_count": 4,
      "outputs": [
        {
          "output_type": "stream",
          "text": [
            "Tensor(\"Add:0\", shape=(2, 2), dtype=int32)\n"
          ],
          "name": "stdout"
        }
      ]
    },
    {
      "cell_type": "markdown",
      "metadata": {
        "id": "tXqf6bDilqtX"
      },
      "source": [
        ""
      ]
    }
  ]
}