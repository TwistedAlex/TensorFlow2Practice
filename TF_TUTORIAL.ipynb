{
  "nbformat": 4,
  "nbformat_minor": 0,
  "metadata": {
    "colab": {
      "name": "TF_TUTORIAL.ipynb",
      "provenance": [],
      "collapsed_sections": [],
      "authorship_tag": "ABX9TyNyiVgVpU+GQK22IYvrIujw",
      "include_colab_link": true
    },
    "kernelspec": {
      "name": "python3",
      "display_name": "Python 3"
    }
  },
  "cells": [
    {
      "cell_type": "markdown",
      "metadata": {
        "id": "view-in-github",
        "colab_type": "text"
      },
      "source": [
        "<a href=\"https://colab.research.google.com/github/TwistedAlex/TensorFlow2Practice/blob/main/TF_TUTORIAL.ipynb\" target=\"_parent\"><img src=\"https://colab.research.google.com/assets/colab-badge.svg\" alt=\"Open In Colab\"/></a>"
      ]
    },
    {
      "cell_type": "markdown",
      "metadata": {
        "id": "EBgHaCxIeKX-"
      },
      "source": [
        "**Eager execution**\r\n",
        "Evaluate operations immediately, without building graphs: operations *return concrete values* instead of constructing a compuational graph to run later. \r\n",
        "  *An intuitive interface*: Structure your code naturally and use Python data structures. Quickly iterate on small models and small data.\r\n",
        "  *Easier debugging*: Call ops directly to inspect running models and test changes. Use standard Python debugging toools for immediate error report.\r\n",
        "  *Natural control flow*: Use Python control flow instead of graph control flow, simplifying the specification of dynamic models."
      ]
    },
    {
      "cell_type": "markdown",
      "metadata": {
        "id": "-jadZi_NfET-"
      },
      "source": [
        "**Setup and basic usage**"
      ]
    },
    {
      "cell_type": "code",
      "metadata": {
        "id": "iYSr91h9fFHE"
      },
      "source": [
        "import os\r\n",
        "import tensorflow as tf\r\n",
        "import cProfile\r\n",
        "tf.compat.v1.enable_eager_execution()"
      ],
      "execution_count": 1,
      "outputs": []
    },
    {
      "cell_type": "code",
      "metadata": {
        "colab": {
          "base_uri": "https://localhost:8080/"
        },
        "id": "3XAQxdWLjWDL",
        "outputId": "18a330e6-e731-4475-cad0-f8af79f29741"
      },
      "source": [
        "# Eager execution is enabled by default in TF2.0\r\n",
        "\r\n",
        "tf.executing_eagerly()\r\n",
        "# Run TF ops and the results will return immediately:\r\n",
        "x = [[2.]]\r\n",
        "m = tf.matmul(x, x)\r\n",
        "print(\"hello, {}\".format(m))\r\n",
        "a = tf.constant([[1, 2], [3, 4]])\r\n",
        "print(a)"
      ],
      "execution_count": 2,
      "outputs": [
        {
          "output_type": "stream",
          "text": [
            "hello, [[4.]]\n",
            "tf.Tensor(\n",
            "[[1 2]\n",
            " [3 4]], shape=(2, 2), dtype=int32)\n"
          ],
          "name": "stdout"
        }
      ]
    },
    {
      "cell_type": "markdown",
      "metadata": {
        "id": "f1RIAi5p95Pp"
      },
      "source": [
        "Broadcasting"
      ]
    },
    {
      "cell_type": "code",
      "metadata": {
        "colab": {
          "base_uri": "https://localhost:8080/"
        },
        "id": "noyh6Fax96ei",
        "outputId": "43d504dc-a3a3-43f3-ff69-e54c78977f3b"
      },
      "source": [
        "b = tf.add(a, 1)\r\n",
        "print(b)"
      ],
      "execution_count": 3,
      "outputs": [
        {
          "output_type": "stream",
          "text": [
            "tf.Tensor(\n",
            "[[2 3]\n",
            " [4 5]], shape=(2, 2), dtype=int32)\n"
          ],
          "name": "stdout"
        }
      ]
    },
    {
      "cell_type": "markdown",
      "metadata": {
        "id": "SVmLsK7_963i"
      },
      "source": [
        "Operator overloading"
      ]
    },
    {
      "cell_type": "code",
      "metadata": {
        "colab": {
          "base_uri": "https://localhost:8080/"
        },
        "id": "CqnMdIA6-izf",
        "outputId": "b704a6e8-4a90-49d3-e681-2853c80837f3"
      },
      "source": [
        "print(a * b)"
      ],
      "execution_count": 4,
      "outputs": [
        {
          "output_type": "stream",
          "text": [
            "tf.Tensor(\n",
            "[[ 2  6]\n",
            " [12 20]], shape=(2, 2), dtype=int32)\n"
          ],
          "name": "stdout"
        }
      ]
    },
    {
      "cell_type": "markdown",
      "metadata": {
        "id": "q27eIQ5k-thE"
      },
      "source": [
        "Use NumPy values"
      ]
    },
    {
      "cell_type": "code",
      "metadata": {
        "colab": {
          "base_uri": "https://localhost:8080/"
        },
        "id": "7dw1DZfE-uVY",
        "outputId": "33e2732c-b4c7-4ea5-9dbb-d08ab95de365"
      },
      "source": [
        "import numpy as np\r\n",
        "\r\n",
        "c = np.multiply(a, b)\r\n",
        "print(c)"
      ],
      "execution_count": 5,
      "outputs": [
        {
          "output_type": "stream",
          "text": [
            "[[ 2  6]\n",
            " [12 20]]\n"
          ],
          "name": "stdout"
        }
      ]
    },
    {
      "cell_type": "markdown",
      "metadata": {
        "id": "7SyjI92w_Boh"
      },
      "source": [
        "Obtain numpy value from a tensor:"
      ]
    },
    {
      "cell_type": "code",
      "metadata": {
        "colab": {
          "base_uri": "https://localhost:8080/"
        },
        "id": "sDGadXb3_ErT",
        "outputId": "c92b43f9-db41-4b32-ec92-df373c551222"
      },
      "source": [
        "print(a.numpy())"
      ],
      "execution_count": 7,
      "outputs": [
        {
          "output_type": "stream",
          "text": [
            "[[1 2]\n",
            " [3 4]]\n"
          ],
          "name": "stdout"
        }
      ]
    },
    {
      "cell_type": "markdown",
      "metadata": {
        "id": "5Je2GJFr_V0t"
      },
      "source": [
        "**Dynamic control flow**\r\n",
        "\r\n",
        "A major benefit of eager execution is that all the functionality of the host language is available while your model is executing. So, for example, it is easy to write fizzbuzz:"
      ]
    },
    {
      "cell_type": "code",
      "metadata": {
        "id": "-T2gO-_8_53C"
      },
      "source": [
        "def fizzbuzz(max_num):\r\n",
        "  counter = tf.constant(0)\r\n",
        "  max_num = tf.convert_to_tensor(max_num)\r\n",
        "  for num in range(1, max_num.numpy()+1):\r\n",
        "    num = tf.constant(num)\r\n",
        "    if int(num % 3) == 0 and int(num % 5) == 0:\r\n",
        "      print('FizzBuzz')\r\n",
        "    elif int(num % 3) == 0:\r\n",
        "      print('Fizz')\r\n",
        "    elif int(num % 5) == 0:\r\n",
        "      print('Buzz')\r\n",
        "    else:\r\n",
        "      print(num.numpy())\r\n",
        "    counter += 1"
      ],
      "execution_count": 8,
      "outputs": []
    },
    {
      "cell_type": "markdown",
      "metadata": {
        "id": "Rr8OK7BAABRQ"
      },
      "source": [
        "This has conditionals that depend on tensor values and it prints these values at runtime."
      ]
    },
    {
      "cell_type": "code",
      "metadata": {
        "colab": {
          "base_uri": "https://localhost:8080/"
        },
        "id": "zGxXjvcx_88m",
        "outputId": "718cc0e8-81b7-431a-cf7e-5c8dab652aea"
      },
      "source": [
        "fizzbuzz(15)"
      ],
      "execution_count": 9,
      "outputs": [
        {
          "output_type": "stream",
          "text": [
            "1\n",
            "2\n",
            "Fizz\n",
            "4\n",
            "Buzz\n",
            "Fizz\n",
            "7\n",
            "8\n",
            "Fizz\n",
            "Buzz\n",
            "11\n",
            "Fizz\n",
            "13\n",
            "14\n",
            "FizzBuzz\n"
          ],
          "name": "stdout"
        }
      ]
    },
    {
      "cell_type": "markdown",
      "metadata": {
        "id": "MBKkprX7FiQI"
      },
      "source": [
        "**Eager training**\r\n",
        "\r\n",
        "Computing gradients\r\n",
        "\r\n",
        "Automatic differentiation is useful for implementing machine learning algorithms such as backpropagation for training neural networks. During eager execution, use tf.GradientTape to trace operations for computing gradients later."
      ]
    },
    {
      "cell_type": "code",
      "metadata": {
        "id": "5yUA8EbJFkAr"
      },
      "source": [
        ""
      ],
      "execution_count": null,
      "outputs": []
    },
    {
      "cell_type": "markdown",
      "metadata": {
        "id": "hI2adrV0mn7Y"
      },
      "source": [
        "Disable eager execution"
      ]
    },
    {
      "cell_type": "code",
      "metadata": {
        "colab": {
          "base_uri": "https://localhost:8080/"
        },
        "id": "vFZvyYaolywK",
        "outputId": "a27e995f-0a21-4e9a-b3a4-8ffca0d2e4f2"
      },
      "source": [
        "tf.compat.v1.disable_eager_execution()\r\n",
        "a = tf.constant([[1, 2], [3, 4]])\r\n",
        "print(a)"
      ],
      "execution_count": 3,
      "outputs": [
        {
          "output_type": "stream",
          "text": [
            "Tensor(\"Const:0\", shape=(2, 2), dtype=int32)\n"
          ],
          "name": "stdout"
        }
      ]
    },
    {
      "cell_type": "code",
      "metadata": {
        "colab": {
          "base_uri": "https://localhost:8080/"
        },
        "id": "ghyt0LWxl1bY",
        "outputId": "c223e361-78ab-4875-b50a-aaae388b1dd7"
      },
      "source": [
        "b = tf.add(a, 1)\r\n",
        "print(b)"
      ],
      "execution_count": 4,
      "outputs": [
        {
          "output_type": "stream",
          "text": [
            "Tensor(\"Add:0\", shape=(2, 2), dtype=int32)\n"
          ],
          "name": "stdout"
        }
      ]
    },
    {
      "cell_type": "code",
      "metadata": {
        "id": "i_OVp02V-xi5"
      },
      "source": [
        "import numpy as np\r\n",
        "\r\n",
        "c = np.multiply(a, b)\r\n",
        "print(c)"
      ],
      "execution_count": null,
      "outputs": []
    },
    {
      "cell_type": "markdown",
      "metadata": {
        "id": "tXqf6bDilqtX"
      },
      "source": [
        ""
      ]
    }
  ]
}