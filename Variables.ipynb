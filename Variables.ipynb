{
  "nbformat": 4,
  "nbformat_minor": 0,
  "metadata": {
    "colab": {
      "name": "Variables.ipynb",
      "provenance": [],
      "collapsed_sections": [],
      "authorship_tag": "ABX9TyPNDttMPjajfwIkGk8uEIlM"
    },
    "kernelspec": {
      "name": "python3",
      "display_name": "Python 3"
    }
  },
  "cells": [
    {
      "cell_type": "markdown",
      "metadata": {
        "id": "sGgulxSkfEq-"
      },
      "source": [
        "A TensorFlow variable is the recommended way to represent shared, persistent state your program manipulates. This guide covers how to create, update, and manage instances of tf.Variable in TensorFlow.\r\n",
        "\r\n",
        "Variables are created and tracked via the tf.Variable class. A tf.Variable represents a tensor whose value can be changed by running ops on it. Specific ops allow you to read and modify the values of this tensor. Higher level libraries like tf.keras use tf.Variable to store model parameters."
      ]
    },
    {
      "cell_type": "code",
      "metadata": {
        "id": "XGMlHQaAfKO4"
      },
      "source": [
        "import tensorflow as tf\r\n",
        "\r\n",
        "# Uncomment to see where your variables get placed (see below)\r\n",
        "# tf.debugging.set_log_device_placement(True)"
      ],
      "execution_count": 1,
      "outputs": []
    },
    {
      "cell_type": "code",
      "metadata": {
        "id": "WwbImHbkfLjY"
      },
      "source": [
        "# Create a variable\r\n",
        "ex_tensor = tf.constant([[1.0, 1.0, 0.0], [9.0, 9.0, 6.0]])\r\n",
        "ex_variable = tf.Variable(ex_tensor)\r\n",
        "\r\n",
        "# Variable has the same dtype as the initilized value\r\n",
        "bool_variable = tf.Variable([False, False, False, True])\r\n",
        "complex_variable = tf.Variable([5 + 4j, 6 + 1j])"
      ],
      "execution_count": 3,
      "outputs": []
    },
    {
      "cell_type": "code",
      "metadata": {
        "colab": {
          "base_uri": "https://localhost:8080/"
        },
        "id": "o2XGetT_f48O",
        "outputId": "4deb9964-d4de-443d-e92d-99fdec78f70c"
      },
      "source": [
        "print(\"Shape of Variables: \", ex_variable.shape)\r\n",
        "print(\"DType of Variables: \", ex_variable.dtype)\r\n",
        "print(\"Convert to NumPy: \", ex_variable.numpy())"
      ],
      "execution_count": 5,
      "outputs": [
        {
          "output_type": "stream",
          "text": [
            "Shape of Variables:  (2, 3)\n",
            "DType of Variables:  <dtype: 'float32'>\n",
            "Convert to NumPy:  [[1. 1. 0.]\n",
            " [9. 9. 6.]]\n"
          ],
          "name": "stdout"
        }
      ]
    },
    {
      "cell_type": "code",
      "metadata": {
        "colab": {
          "base_uri": "https://localhost:8080/"
        },
        "id": "GQCf7U91gfF0",
        "outputId": "7c88a163-f885-43fe-c6cc-f4414d3cb49b"
      },
      "source": [
        "print(\"A variable:\", ex_variable)\r\n",
        "print(\"\\nViewed as a tensor:\", tf.convert_to_tensor(ex_variable))\r\n",
        "print(\"\\nIndex of highest value:\", tf.argmax(ex_variable))\r\n",
        "\r\n",
        "# This creates a new tensor; it does not reshape the variable.\r\n",
        "print(\"\\nCopying and reshaping: \", tf.reshape(ex_variable, ([1,6])))"
      ],
      "execution_count": 8,
      "outputs": [
        {
          "output_type": "stream",
          "text": [
            "A variable: <tf.Variable 'Variable:0' shape=(2, 3) dtype=float32, numpy=\n",
            "array([[1., 1., 0.],\n",
            "       [9., 9., 6.]], dtype=float32)>\n",
            "\n",
            "Viewed as a tensor: tf.Tensor(\n",
            "[[1. 1. 0.]\n",
            " [9. 9. 6.]], shape=(2, 3), dtype=float32)\n",
            "\n",
            "Index of highest value: tf.Tensor([1 1 1], shape=(3,), dtype=int64)\n",
            "\n",
            "Copying and reshaping:  tf.Tensor([[1. 1. 0. 9. 9. 6.]], shape=(1, 6), dtype=float32)\n"
          ],
          "name": "stdout"
        }
      ]
    },
    {
      "cell_type": "markdown",
      "metadata": {
        "id": "dlbIH4LdieUX"
      },
      "source": [
        "As noted above, variables are backed by tensors. You can reassign the tensor using `tf.Variable.assign`.  Calling `assign` does not (usually) allocate a new tensor; instead, the existing tensor's memory is reused."
      ]
    },
    {
      "cell_type": "code",
      "metadata": {
        "colab": {
          "base_uri": "https://localhost:8080/"
        },
        "id": "rFTAnijWjRgI",
        "outputId": "bd2079cc-2701-4e9f-94e4-89a8f8cccf76"
      },
      "source": [
        "a = tf.Variable([2.0, 3.0])\r\n",
        "# This will keep the same dtype, float32\r\n",
        "a.assign([1, 2]) \r\n",
        "# Not allowed as it resizes the variable: \r\n",
        "try:\r\n",
        "  a.assign([1.0, 2.0, 3.0])\r\n",
        "except Exception as e:\r\n",
        "  print(f\"{type(e).__name__}: {e}\")"
      ],
      "execution_count": 11,
      "outputs": [
        {
          "output_type": "stream",
          "text": [
            "ValueError: Cannot assign to variable Variable:0 due to variable shape (2,) and value shape (3,) are incompatible\n"
          ],
          "name": "stdout"
        }
      ]
    },
    {
      "cell_type": "code",
      "metadata": {
        "id": "VpGQUVhnk0ZA"
      },
      "source": [
        "# Although variables are important for differentiation, some variables will not need to be differentiated. You can turn off gradients for a variable by setting trainable to false at creation. An example of a variable that would not need gradients is a training step counter.\r\n",
        "counter = tf.Variable(1, trainable=False)"
      ],
      "execution_count": 12,
      "outputs": []
    },
    {
      "cell_type": "code",
      "metadata": {
        "colab": {
          "base_uri": "https://localhost:8080/"
        },
        "id": "JyoHczjzoeGs",
        "outputId": "a500c8e6-525e-4da8-83a2-8e48d098f309"
      },
      "source": [
        "# Set the location of a variable or tensor on one device and do the computation on another device.\r\n",
        "# Manual placement \r\n",
        "with tf.device('CPU:0'):\r\n",
        "  a = tf.Variable([[1.0, 2.0, 3.0], [4.0, 5.0, 6.0]])\r\n",
        "  b = tf.Variable([[1.0, 2.0, 3.0]])\r\n",
        "\r\n",
        "with tf.device('GPU:0'):\r\n",
        "  # Element-wise multiply\r\n",
        "  k = a * b\r\n",
        "\r\n",
        "print(k)"
      ],
      "execution_count": 13,
      "outputs": [
        {
          "output_type": "stream",
          "text": [
            "tf.Tensor(\n",
            "[[ 1.  4.  9.]\n",
            " [ 4. 10. 18.]], shape=(2, 3), dtype=float32)\n"
          ],
          "name": "stdout"
        }
      ]
    },
    {
      "cell_type": "markdown",
      "metadata": {
        "id": "63qozv7QsSqE"
      },
      "source": [
        "[Distrubuted training](https://github.com/tensorflow/docs/blob/master/site/en/guide/distributed_training.ipynb)"
      ]
    }
  ]
}