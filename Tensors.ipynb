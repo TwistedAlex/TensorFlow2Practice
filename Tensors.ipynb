{
  "nbformat": 4,
  "nbformat_minor": 0,
  "metadata": {
    "colab": {
      "name": "Tensors.ipynb",
      "provenance": [],
      "collapsed_sections": [],
      "authorship_tag": "ABX9TyMBVqODu3w3c6ZrSFjEaGNI",
      "include_colab_link": true
    },
    "kernelspec": {
      "name": "python3",
      "display_name": "Python 3"
    }
  },
  "cells": [
    {
      "cell_type": "markdown",
      "metadata": {
        "id": "view-in-github",
        "colab_type": "text"
      },
      "source": [
        "<a href=\"https://colab.research.google.com/github/TwistedAlex/TensorFlow2Practice/blob/main/Tensors.ipynb\" target=\"_parent\"><img src=\"https://colab.research.google.com/assets/colab-badge.svg\" alt=\"Open In Colab\"/></a>"
      ]
    },
    {
      "cell_type": "markdown",
      "metadata": {
        "id": "4JcWTfCCleL-"
      },
      "source": [
        "Tensors are multi-dimensional arrays with a uniform type (called a dtype). You can see all supported dtypes at tf.[dtypes.DType](https://www.tensorflow.org/api_docs/python/tf/dtypes/DType).\r\n",
        "\r\n",
        "If you're familiar with NumPy, tensors are (kind of) like np.arrays.\r\n",
        "\r\n",
        "All tensors are immutable like Python numbers and strings: you can never update the contents of a tensor, only create a new one. (tf.add(x, y) create a new tensor has the same type as x)"
      ]
    },
    {
      "cell_type": "code",
      "metadata": {
        "id": "LPsfkLpmuarB"
      },
      "source": [
        "import tensorflow as tf\r\n",
        "import numpy as np"
      ],
      "execution_count": 1,
      "outputs": []
    },
    {
      "cell_type": "code",
      "metadata": {
        "colab": {
          "base_uri": "https://localhost:8080/"
        },
        "id": "F3GIL2O1uAUP",
        "outputId": "a8b134db-1c13-4930-e6fd-6c7eb412ae8a"
      },
      "source": [
        "# Here is a \"scalar\" or \"rank-0\" tensor . A scalar contains a single value, and no \"axes\".\r\n",
        "rank_0_tensor = tf.constant(4)\r\n",
        "print(rank_0_tensor)\r\n",
        "# A \"vector\" or \"rank-1\" tensor is like a list of values. A vector has 1-axis:\r\n",
        "# Let's make this a float tensor.\r\n",
        "rank_1_tensor = tf.constant([2.0, 3.0, 4.0])\r\n",
        "print(rank_1_tensor)\r\n",
        "# A \"matrix\" or \"rank-2\" tensor has 2-axes:\r\n",
        "# If you want to be specific, you can set the dtype (see below) at creation time\r\n",
        "rank_2_tensor = tf.constant([[1, 2],\r\n",
        "                             [3, 4],\r\n",
        "                             [5, 6]], dtype=tf.float16)\r\n",
        "print(rank_2_tensor)\r\n",
        "# Tensors may have more axes, here is a tensor with 3-axes:\r\n",
        "# There can be an arbitrary number of\r\n",
        "# axes (sometimes called \"dimensions\")\r\n",
        "rank_3_tensor = tf.constant([\r\n",
        "  [[0, 1, 2, 3, 4],\r\n",
        "   [5, 6, 7, 8, 9]],\r\n",
        "  [[10, 11, 12, 13, 14],\r\n",
        "   [15, 16, 17, 18, 19]],\r\n",
        "  [[20, 21, 22, 23, 24],\r\n",
        "   [25, 26, 27, 28, 29]],])\r\n",
        "\r\n",
        "print(rank_3_tensor)"
      ],
      "execution_count": 2,
      "outputs": [
        {
          "output_type": "stream",
          "text": [
            "tf.Tensor(4, shape=(), dtype=int32)\n",
            "tf.Tensor([2. 3. 4.], shape=(3,), dtype=float32)\n",
            "tf.Tensor(\n",
            "[[1. 2.]\n",
            " [3. 4.]\n",
            " [5. 6.]], shape=(3, 2), dtype=float16)\n",
            "tf.Tensor(\n",
            "[[[ 0  1  2  3  4]\n",
            "  [ 5  6  7  8  9]]\n",
            "\n",
            " [[10 11 12 13 14]\n",
            "  [15 16 17 18 19]]\n",
            "\n",
            " [[20 21 22 23 24]\n",
            "  [25 26 27 28 29]]], shape=(3, 2, 5), dtype=int32)\n"
          ],
          "name": "stdout"
        }
      ]
    },
    {
      "cell_type": "markdown",
      "metadata": {
        "id": "4FuYALo2w8xw"
      },
      "source": [
        "Various shapes of tensors\r\n",
        "\r\n",
        "[Ragged tensors](https://www.tensorflow.org/guide/tensor#ragged_tensors) \r\n",
        "[Sparse tensors](https://www.tensorflow.org/guide/tensor#sparse_tensors) "
      ]
    },
    {
      "cell_type": "code",
      "metadata": {
        "colab": {
          "base_uri": "https://localhost:8080/"
        },
        "id": "siofqD3zw7Lr",
        "outputId": "d7101f32-629a-4f7e-d511-407ac050234b"
      },
      "source": [
        "ragged_list = [\r\n",
        "    [0, 1, 2, 3],\r\n",
        "    [4, 5],\r\n",
        "    [6, 7, 8],\r\n",
        "    [9]]\r\n",
        "\r\n",
        "ragged_tensor = tf.ragged.constant(ragged_list)\r\n",
        "print(ragged_tensor)\r\n",
        "print(ragged_tensor.shape)\r\n",
        "\r\n",
        "# Sparse tensors store values by index in a memory-efficient manner\r\n",
        "sparse_tensor = tf.sparse.SparseTensor(indices=[[0, 0], [1, 2]],\r\n",
        "                                       values=[1, 2],\r\n",
        "                                       dense_shape=[3, 4])\r\n",
        "print(sparse_tensor, \"\\n\")\r\n",
        "\r\n",
        "# You can convert sparse tensors to dense\r\n",
        "print(tf.sparse.to_dense(sparse_tensor))"
      ],
      "execution_count": 3,
      "outputs": [
        {
          "output_type": "stream",
          "text": [
            "<tf.RaggedTensor [[0, 1, 2, 3], [4, 5], [6, 7, 8], [9]]>\n",
            "SparseTensor(indices=tf.Tensor(\n",
            "[[0 0]\n",
            " [1 2]], shape=(2, 2), dtype=int64), values=tf.Tensor([1 2], shape=(2,), dtype=int32), dense_shape=tf.Tensor([3 4], shape=(2,), dtype=int64)) \n",
            "\n",
            "tf.Tensor(\n",
            "[[1 0 0 0]\n",
            " [0 0 2 0]\n",
            " [0 0 0 0]], shape=(3, 4), dtype=int32)\n"
          ],
          "name": "stdout"
        }
      ]
    },
    {
      "cell_type": "markdown",
      "metadata": {
        "id": "ebz4KZaAt80g"
      },
      "source": [
        "Convert a tensor to a NumPy array either using np.array or the tensor.numpy method:"
      ]
    },
    {
      "cell_type": "code",
      "metadata": {
        "colab": {
          "base_uri": "https://localhost:8080/"
        },
        "id": "25T3BY3Ht7pe",
        "outputId": "cd994a9d-a65f-4688-d48a-9d77f9507d48"
      },
      "source": [
        "np.array(rank_2_tensor)"
      ],
      "execution_count": 4,
      "outputs": [
        {
          "output_type": "execute_result",
          "data": {
            "text/plain": [
              "array([[1., 2.],\n",
              "       [3., 4.],\n",
              "       [5., 6.]], dtype=float16)"
            ]
          },
          "metadata": {
            "tags": []
          },
          "execution_count": 4
        }
      ]
    },
    {
      "cell_type": "code",
      "metadata": {
        "colab": {
          "base_uri": "https://localhost:8080/"
        },
        "id": "hYDZ9gQJy58H",
        "outputId": "cf4841c5-3c5a-427c-e2ff-4a2d92adb1f2"
      },
      "source": [
        "rank_2_tensor.numpy()"
      ],
      "execution_count": 5,
      "outputs": [
        {
          "output_type": "execute_result",
          "data": {
            "text/plain": [
              "array([[1., 2.],\n",
              "       [3., 4.],\n",
              "       [5., 6.]], dtype=float16)"
            ]
          },
          "metadata": {
            "tags": []
          },
          "execution_count": 5
        }
      ]
    },
    {
      "cell_type": "markdown",
      "metadata": {
        "id": "cpbofH6W8B1D"
      },
      "source": [
        "Broadcasting"
      ]
    },
    {
      "cell_type": "code",
      "metadata": {
        "colab": {
          "base_uri": "https://localhost:8080/"
        },
        "id": "_AiFYTIK8DV5",
        "outputId": "a29fc798-d23e-4f32-aa39-f849742ea1c6"
      },
      "source": [
        "x = tf.constant([1, 2, 3])\r\n",
        "\r\n",
        "y = tf.constant(2)\r\n",
        "z = tf.constant([2, 2, 2])\r\n",
        "# All of these are the same computation\r\n",
        "print(tf.multiply(x, 2))\r\n",
        "print(x * y)\r\n",
        "print(x * z)"
      ],
      "execution_count": 6,
      "outputs": [
        {
          "output_type": "stream",
          "text": [
            "tf.Tensor([2 4 6], shape=(3,), dtype=int32)\n",
            "tf.Tensor([2 4 6], shape=(3,), dtype=int32)\n",
            "tf.Tensor([2 4 6], shape=(3,), dtype=int32)\n"
          ],
          "name": "stdout"
        }
      ]
    },
    {
      "cell_type": "code",
      "metadata": {
        "colab": {
          "base_uri": "https://localhost:8080/"
        },
        "id": "8GTgqEfr-whS",
        "outputId": "12fc9d4f-e692-4c19-82e3-5434d95e5125"
      },
      "source": [
        "# These are the same computations\r\n",
        "x = tf.reshape(x,[3,1])\r\n",
        "y = tf.range(1, 5)\r\n",
        "print(x, \"\\n\")\r\n",
        "print(y, \"\\n\")\r\n",
        "print(tf.multiply(x, y))"
      ],
      "execution_count": 7,
      "outputs": [
        {
          "output_type": "stream",
          "text": [
            "tf.Tensor(\n",
            "[[1]\n",
            " [2]\n",
            " [3]], shape=(3, 1), dtype=int32) \n",
            "\n",
            "tf.Tensor([1 2 3 4], shape=(4,), dtype=int32) \n",
            "\n",
            "tf.Tensor(\n",
            "[[ 1  2  3  4]\n",
            " [ 2  4  6  8]\n",
            " [ 3  6  9 12]], shape=(3, 4), dtype=int32)\n"
          ],
          "name": "stdout"
        }
      ]
    },
    {
      "cell_type": "markdown",
      "metadata": {
        "id": "CrxbeGbk-yF0"
      },
      "source": [
        "A broadcasted add: a <code>[3, 1]</code> times a <code>[1, 4]</code> gives a <code>[3,4]"
      ]
    },
    {
      "cell_type": "code",
      "metadata": {
        "colab": {
          "base_uri": "https://localhost:8080/"
        },
        "id": "6cC6qMviHbi_",
        "outputId": "0b86bdb2-df0c-4077-aa32-461a93049373"
      },
      "source": [
        "x_stretch = tf.constant([[1, 1, 1, 1],\r\n",
        "                         [2, 2, 2, 2],\r\n",
        "                         [3, 3, 3, 3]])\r\n",
        "\r\n",
        "y_stretch = tf.constant([[1, 2, 3, 4],\r\n",
        "                         [1, 2, 3, 4],\r\n",
        "                         [1, 2, 3, 4]])\r\n",
        "\r\n",
        "print(x_stretch * y_stretch)  # Again, operator overloading"
      ],
      "execution_count": 8,
      "outputs": [
        {
          "output_type": "stream",
          "text": [
            "tf.Tensor(\n",
            "[[ 1  2  3  4]\n",
            " [ 2  4  6  8]\n",
            " [ 3  6  9 12]], shape=(3, 4), dtype=int32)\n"
          ],
          "name": "stdout"
        }
      ]
    },
    {
      "cell_type": "markdown",
      "metadata": {
        "id": "SBFvt9AhuObi"
      },
      "source": [
        "## tf.convert_to_tensor\r\n",
        "\r\n",
        "Most ops, like `tf.matmul` and `tf.reshape` take arguments of class `tf.Tensor`.  However, you'll notice in the above case, Python objects shaped like tensors are accepted.\r\n",
        "\r\n",
        "Most, but not all, ops call `convert_to_tensor` on non-tensor arguments.  There is a registry of conversions, and most object classes like NumPy's `ndarray`, `TensorShape`, Python lists, and `tf.Variable` will all convert automatically.\r\n",
        "\r\n",
        "See `tf.register_tensor_conversion_function` for more details, and if you have your own type you'd like to automatically convert to a tensor."
      ]
    },
    {
      "cell_type": "markdown",
      "metadata": {
        "id": "l0UdyawYuZhr"
      },
      "source": [
        "## String tensors\r\n",
        "\r\n",
        "`tf.string` is a `dtype`, which is to say you can represent data as strings (variable-length byte arrays) in tensors.\r\n",
        "\r\n",
        "The strings are atomic and cannot be indexed the way Python strings are. The length of the string is not one of the dimensions of the tensor. See `tf.strings` for functions to manipulate them."
      ]
    },
    {
      "cell_type": "code",
      "metadata": {
        "colab": {
          "base_uri": "https://localhost:8080/"
        },
        "id": "hXOuc0E2uejm",
        "outputId": "0b832564-42ef-4a1c-a69d-9e49fb6aa247"
      },
      "source": [
        "# Tensors can be strings, too here is a scalar string.\r\n",
        "scalar_string_tensor = tf.constant(\"Gray wolf\")\r\n",
        "print(scalar_string_tensor)\r\n",
        "\r\n",
        "# If you have three string tensors of different lengths, this is OK.\r\n",
        "tensor_of_strings = tf.constant([\"Gray wolf\",\r\n",
        "                                 \"Quick brown fox\",\r\n",
        "                                 \"Lazy dog\"])\r\n",
        "# Note that the shape is (3,). The string length is not included.\r\n",
        "print(tensor_of_strings)"
      ],
      "execution_count": 9,
      "outputs": [
        {
          "output_type": "stream",
          "text": [
            "tf.Tensor(b'Gray wolf', shape=(), dtype=string)\n",
            "tf.Tensor([b'Gray wolf' b'Quick brown fox' b'Lazy dog'], shape=(3,), dtype=string)\n"
          ],
          "name": "stdout"
        }
      ]
    },
    {
      "cell_type": "markdown",
      "metadata": {
        "id": "WgXktLpxuwS9"
      },
      "source": [
        "In the above printout the `b` prefix indicates that `tf.string` dtype is not a unicode string, but a byte-string. See the [Unicode Tutorial](https://www.tensorflow.org/tutorials/load_data/unicode) for more about working with unicode text in TensorFlow."
      ]
    },
    {
      "cell_type": "markdown",
      "metadata": {
        "id": "ItOlLha9uqjU"
      },
      "source": [
        "If you pass unicode characters they are utf-8 encoded."
      ]
    },
    {
      "cell_type": "code",
      "metadata": {
        "colab": {
          "base_uri": "https://localhost:8080/"
        },
        "id": "ZO0uHFH_u062",
        "outputId": "c2cf217b-2c29-4122-c304-5665ce73f397"
      },
      "source": [
        "tf.constant(\"🥳👍\")"
      ],
      "execution_count": 10,
      "outputs": [
        {
          "output_type": "execute_result",
          "data": {
            "text/plain": [
              "<tf.Tensor: shape=(), dtype=string, numpy=b'\\xf0\\x9f\\xa5\\xb3\\xf0\\x9f\\x91\\x8d'>"
            ]
          },
          "metadata": {
            "tags": []
          },
          "execution_count": 10
        }
      ]
    },
    {
      "cell_type": "markdown",
      "metadata": {
        "id": "m5mehqwvu5fO"
      },
      "source": [
        "Some basic functions with strings can be found in `tf.strings`, including `tf.strings.split`."
      ]
    },
    {
      "cell_type": "code",
      "metadata": {
        "colab": {
          "base_uri": "https://localhost:8080/"
        },
        "id": "h17FzC2ou9TC",
        "outputId": "3a2755f2-4097-4a3e-ae84-b1e4843c9483"
      },
      "source": [
        "# You can use split to split a string into a set of tensors\r\n",
        "print(tf.strings.split(scalar_string_tensor, sep=\" \"))\r\n",
        "# ...but it turns into a `RaggedTensor` if you split up a tensor of strings,\r\n",
        "# as each string might be split into a different number of parts.\r\n",
        "print(tf.strings.split(tensor_of_strings))"
      ],
      "execution_count": 11,
      "outputs": [
        {
          "output_type": "stream",
          "text": [
            "tf.Tensor([b'Gray' b'wolf'], shape=(2,), dtype=string)\n",
            "<tf.RaggedTensor [[b'Gray', b'wolf'], [b'Quick', b'brown', b'fox'], [b'Lazy', b'dog']]>\n"
          ],
          "name": "stdout"
        }
      ]
    },
    {
      "cell_type": "markdown",
      "metadata": {
        "id": "S7sKuMhovCfF"
      },
      "source": [
        "tf.string.to_number:"
      ]
    },
    {
      "cell_type": "code",
      "metadata": {
        "colab": {
          "base_uri": "https://localhost:8080/"
        },
        "id": "8CMgx3aVvEq1",
        "outputId": "36a13536-91b4-4851-d340-ebe3234e3dbd"
      },
      "source": [
        "text = tf.constant(\"1 10 100\")\r\n",
        "print(tf.strings.to_number(tf.strings.split(text, \" \")))"
      ],
      "execution_count": 18,
      "outputs": [
        {
          "output_type": "stream",
          "text": [
            "tf.Tensor([  1.  10. 100.], shape=(3,), dtype=float32)\n"
          ],
          "name": "stdout"
        }
      ]
    },
    {
      "cell_type": "markdown",
      "metadata": {
        "id": "moW-V3R_yyMo"
      },
      "source": [
        "Although you can't use tf.cast to turn a string tensor into numbers, you can convert it into bytes, and then into numbers."
      ]
    },
    {
      "cell_type": "code",
      "metadata": {
        "colab": {
          "base_uri": "https://localhost:8080/"
        },
        "id": "4w6aEN-NyypY",
        "outputId": "bc0149cc-a9b0-4ad3-cdca-eca749e12ae5"
      },
      "source": [
        "byte_strings = tf.strings.bytes_split(tf.constant(\"Duck\"))\r\n",
        "byte_ints = tf.io.decode_raw(tf.constant(\"Duck\"), tf.uint8)\r\n",
        "print(\"Byte strings:\", byte_strings)\r\n",
        "print(\"Bytes:\", byte_ints)"
      ],
      "execution_count": 19,
      "outputs": [
        {
          "output_type": "stream",
          "text": [
            "Byte strings: tf.Tensor([b'D' b'u' b'c' b'k'], shape=(4,), dtype=string)\n",
            "Bytes: tf.Tensor([ 68 117  99 107], shape=(4,), dtype=uint8)\n"
          ],
          "name": "stdout"
        }
      ]
    },
    {
      "cell_type": "code",
      "metadata": {
        "colab": {
          "base_uri": "https://localhost:8080/"
        },
        "id": "5a_AMFnCy549",
        "outputId": "45092075-7180-42eb-db7c-fc799b2aac35"
      },
      "source": [
        "# Or split it up as unicode and then decode it\r\n",
        "unicode_bytes = tf.constant(\"アヒル 🦆\")\r\n",
        "unicode_char_bytes = tf.strings.unicode_split(unicode_bytes, \"UTF-8\")\r\n",
        "unicode_values = tf.strings.unicode_decode(unicode_bytes, \"UTF-8\")\r\n",
        "\r\n",
        "print(\"\\nUnicode bytes:\", unicode_bytes)\r\n",
        "print(\"\\nUnicode chars:\", unicode_char_bytes)\r\n",
        "print(\"\\nUnicode values:\", unicode_values)"
      ],
      "execution_count": 20,
      "outputs": [
        {
          "output_type": "stream",
          "text": [
            "\n",
            "Unicode bytes: tf.Tensor(b'\\xe3\\x82\\xa2\\xe3\\x83\\x92\\xe3\\x83\\xab \\xf0\\x9f\\xa6\\x86', shape=(), dtype=string)\n",
            "\n",
            "Unicode chars: tf.Tensor([b'\\xe3\\x82\\xa2' b'\\xe3\\x83\\x92' b'\\xe3\\x83\\xab' b' ' b'\\xf0\\x9f\\xa6\\x86'], shape=(5,), dtype=string)\n",
            "\n",
            "Unicode values: tf.Tensor([ 12450  12498  12523     32 129414], shape=(5,), dtype=int32)\n"
          ],
          "name": "stdout"
        }
      ]
    },
    {
      "cell_type": "markdown",
      "metadata": {
        "id": "P5Q2oL8JzG78"
      },
      "source": [
        "The `tf.string` dtype is used for all raw bytes data in TensorFlow. The `tf.io` module contains functions for converting data to and from bytes, including decoding images and parsing csv.\r\n",
        "#TODO: tf.io"
      ]
    }
  ]
}