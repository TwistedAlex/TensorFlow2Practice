{
  "nbformat": 4,
  "nbformat_minor": 0,
  "metadata": {
    "colab": {
      "name": "AutomaticDifferentiation.ipynb",
      "provenance": [],
      "authorship_tag": "ABX9TyMqB7IQKutbvPI35llY+pAU"
    },
    "kernelspec": {
      "name": "python3",
      "display_name": "Python 3"
    }
  },
  "cells": [
    {
      "cell_type": "code",
      "metadata": {
        "id": "dloHqnGvsfwv"
      },
      "source": [
        "import numpy as np\r\n",
        "import matplotlib.pyplot as plt\r\n",
        "\r\n",
        "import tensorflow as tf"
      ],
      "execution_count": 2,
      "outputs": []
    },
    {
      "cell_type": "markdown",
      "metadata": {
        "id": "Kuc-dEGBJc15"
      },
      "source": [
        "To differentiate automatically, TensorFlow needs to remember what operations happen in what order during the forward pass. Then, during the backward pass, TensorFlow traverses this list of operations in reverse order to compute gradients.\r\n",
        "\r\n",
        "[Gradient tapes](https://www.tensorflow.org/api_docs/python/tf/GradientTape)"
      ]
    },
    {
      "cell_type": "code",
      "metadata": {
        "colab": {
          "base_uri": "https://localhost:8080/"
        },
        "id": "j2TqPd5qKj08",
        "outputId": "d977b4e7-532b-4e99-86c8-c1ceebccf187"
      },
      "source": [
        "# Gradient tapes\r\n",
        "\r\n",
        "w = tf.Variable(tf.random.normal((3, 2)), name='w')\r\n",
        "b = tf.Variable(tf.zeros(2, dtype=tf.float32), name='b')\r\n",
        "x = [[1., 2., 3.]]\r\n",
        "\r\n",
        "with tf.GradientTape(persistent=True) as tape:\r\n",
        "  y = x @ w + b\r\n",
        "  loss = tf.reduce_mean(y**2)\r\n",
        "\r\n",
        "[dl_dw, dl_db] = tape.gradient(loss, [w, b])\r\n",
        "\r\n",
        "# The gradient w.r.t. each source has the shape of the source:\r\n",
        "print(w.shape)\r\n",
        "print(dl_dw.shape)"
      ],
      "execution_count": 3,
      "outputs": [
        {
          "output_type": "stream",
          "text": [
            "(3, 2)\n",
            "(3, 2)\n"
          ],
          "name": "stdout"
        }
      ]
    },
    {
      "cell_type": "markdown",
      "metadata": {
        "id": "ZM3LP-q9SBsV"
      },
      "source": [
        "Gradients w.r.t. a model"
      ]
    },
    {
      "cell_type": "code",
      "metadata": {
        "id": "6ZOwUGg1SD1L"
      },
      "source": [
        ""
      ],
      "execution_count": null,
      "outputs": []
    }
  ]
}