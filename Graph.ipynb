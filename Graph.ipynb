{
  "nbformat": 4,
  "nbformat_minor": 0,
  "metadata": {
    "colab": {
      "name": "Graph.ipynb",
      "provenance": [],
      "authorship_tag": "ABX9TyMkZ1GdknVTprT37EturbFw"
    },
    "kernelspec": {
      "name": "python3",
      "display_name": "Python 3"
    }
  },
  "cells": [
    {
      "cell_type": "markdown",
      "metadata": {
        "id": "LkgPZKDgx5gX"
      },
      "source": [
        "Graphs and tf.functions ref: https://www.tensorflow.org/guide/intro_to_graphs\r\n",
        "\r\n",
        "TensorFlow running eagerly means TensorFlow operations are executed by Python, operation by operation, and returning results back to Python. Eager TensorFlow takes advantage of GPUs, allowing you to place variables, tensors, and even operations on GPUs and TPUs. It is also easy to debug.\r\n",
        "\r\n",
        "For some users, you may never need or want to leave Python.\r\n",
        "\r\n",
        "However, running TensorFlow op-by-op in Python prevents a host of accelerations otherwise available. If you can extract tensor computations from Python, you can make them into a graph."
      ]
    },
    {
      "cell_type": "markdown",
      "metadata": {
        "id": "Gx7hwX8kAiku"
      },
      "source": [
        "**Graphs are data structures that contain a set of `tf.Operation` objects, which represent units of computation; and `tf.Tensor` objects, which represent the units of data that flow between operations.** They are defined in a `tf.Graph` context. Since these graphs are data structures, they can be saved, run, and restored all without the original Python code."
      ]
    },
    {
      "cell_type": "markdown",
      "metadata": {
        "id": "eYqD5tM_Kv5A"
      },
      "source": [
        "**Tracing graphs**\r\n",
        "\r\n",
        "The way you create a graph in TensorFlow is to use tf.function, either as a direct call or as a decorator."
      ]
    },
    {
      "cell_type": "code",
      "metadata": {
        "id": "GCltoSuWxIvE"
      },
      "source": [
        "import tensorflow as tf\r\n",
        "import timeit\r\n",
        "from datetime import datetime"
      ],
      "execution_count": 1,
      "outputs": []
    },
    {
      "cell_type": "code",
      "metadata": {
        "colab": {
          "base_uri": "https://localhost:8080/"
        },
        "id": "nPuXwzNLK6fC",
        "outputId": "abe0315a-db0f-48d1-9b6a-536f1402cb04"
      },
      "source": [
        "# Define a Python function\r\n",
        "def function_to_get_faster(x, y, b):\r\n",
        "  x = tf.matmul(x, y)\r\n",
        "  x = x + b\r\n",
        "  return x\r\n",
        "\r\n",
        "# Create a `Function` object that contains a graph\r\n",
        "a_function_that_uses_a_graph = tf.function(function_to_get_faster)\r\n",
        "\r\n",
        "# Make some tensors\r\n",
        "x1 = tf.constant([[1.0, 2.0]])\r\n",
        "y1 = tf.constant([[2.0], [3.0]])\r\n",
        "b1 = tf.constant(4.0)\r\n",
        "\r\n",
        "# It just works!\r\n",
        "a_function_that_uses_a_graph(x1, y1, b1).numpy()"
      ],
      "execution_count": 2,
      "outputs": [
        {
          "output_type": "execute_result",
          "data": {
            "text/plain": [
              "array([[12.]], dtype=float32)"
            ]
          },
          "metadata": {
            "tags": []
          },
          "execution_count": 2
        }
      ]
    },
    {
      "cell_type": "markdown",
      "metadata": {
        "id": "2P4L6v_xM0B_"
      },
      "source": [
        "tf.function-ized functions are Python callables that work the same as their Python equivalents. They have a particular class (python.eager.def_function.Function), but to you they act just as the non-traced version.\r\n",
        "\r\n",
        "tf.function recursively traces any Python function it calls."
      ]
    },
    {
      "cell_type": "code",
      "metadata": {
        "colab": {
          "base_uri": "https://localhost:8080/"
        },
        "id": "3y6PS4o8M0ZO",
        "outputId": "bb413866-6929-455e-f719-93e62393a608"
      },
      "source": [
        "def inner_function(x, y, b):\r\n",
        "  x = tf.matmul(x, y)\r\n",
        "  x = x + b\r\n",
        "  return x\r\n",
        "\r\n",
        "# Use the decorator\r\n",
        "@tf.function\r\n",
        "def outer_function(x):\r\n",
        "  y = tf.constant([[2.0], [3.0]])\r\n",
        "  b = tf.constant(4.0)\r\n",
        "\r\n",
        "  return inner_function(x, y, b)\r\n",
        "\r\n",
        "# Note that the callable will create a graph that\r\n",
        "# includes inner_function() as well as outer_function()\r\n",
        "outer_function(tf.constant([[1.0, 2.0]])).numpy()"
      ],
      "execution_count": 3,
      "outputs": [
        {
          "output_type": "execute_result",
          "data": {
            "text/plain": [
              "array([[12.]], dtype=float32)"
            ]
          },
          "metadata": {
            "tags": []
          },
          "execution_count": 3
        }
      ]
    }
  ]
}